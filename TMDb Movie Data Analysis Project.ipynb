{
 "cells": [
  {
   "cell_type": "markdown",
   "metadata": {},
   "source": [
    "\n",
    "\n",
    "# Project: TMDB Movie Data\n",
    "\n",
    "## Table of Contents\n",
    "<ul>\n",
    "<li><a href=\"#intro\">Introduction</a></li>\n",
    "<li><a href=\"#wrangling\">Data Wrangling</a></li>\n",
    "<li><a href=\"#eda\">Exploratory Data Analysis</a></li>\n",
    "<li><a href=\"#conclusions\">Conclusions</a></li>\n",
    "</ul>"
   ]
  },
  {
   "cell_type": "markdown",
   "metadata": {},
   "source": [
    "<a id='intro'></a>\n",
    "## Introduction\n",
    "\n",
    "> **In this project, I selected the dataset of Imdb_movie to perform data analysis. This dataset contains information about 1000 movies colletected from The Movie Database (TMDb).**\n",
    "\n",
    "### Asking Questions:\n",
    "<ul>\n",
    "<li><a href=\"#gen\">1. What genres of movie tends to have high popularity?</a></li>\n",
    "<li><a href=\"#rev\">2. What properties that are associated with high revenue?</a></li>\n",
    "<li><a href=\"#dir\">3. Who are the directors tend to direct movies with high ratings? </a></li>\n",
    "</ul>"
   ]
  },
  {
   "cell_type": "code",
   "execution_count": 1,
   "metadata": {},
   "outputs": [],
   "source": [
    "# import packages that will be used in this project.\n",
    "import pandas as pd\n",
    "import numpy as np\n",
    "import matplotlib.pyplot as plt\n",
    "import seaborn as sns\n",
    "%matplotlib inline"
   ]
  },
  {
   "cell_type": "markdown",
   "metadata": {},
   "source": [
    "<a id='wrangling'></a>\n",
    "## Data Wrangling\n",
    "\n",
    "\n",
    "#### General Properties"
   ]
  },
  {
   "cell_type": "code",
   "execution_count": 2,
   "metadata": {},
   "outputs": [],
   "source": [
    "# Load data and check out the information\n",
    "df = pd.read_csv('tmdb-movies.csv')"
   ]
  },
  {
   "cell_type": "code",
   "execution_count": 3,
   "metadata": {
    "scrolled": true
   },
   "outputs": [
    {
     "data": {
      "text/html": [
       "<div>\n",
       "<style scoped>\n",
       "    .dataframe tbody tr th:only-of-type {\n",
       "        vertical-align: middle;\n",
       "    }\n",
       "\n",
       "    .dataframe tbody tr th {\n",
       "        vertical-align: top;\n",
       "    }\n",
       "\n",
       "    .dataframe thead th {\n",
       "        text-align: right;\n",
       "    }\n",
       "</style>\n",
       "<table border=\"1\" class=\"dataframe\">\n",
       "  <thead>\n",
       "    <tr style=\"text-align: right;\">\n",
       "      <th></th>\n",
       "      <th>id</th>\n",
       "      <th>imdb_id</th>\n",
       "      <th>popularity</th>\n",
       "      <th>budget</th>\n",
       "      <th>revenue</th>\n",
       "      <th>original_title</th>\n",
       "      <th>cast</th>\n",
       "      <th>homepage</th>\n",
       "      <th>director</th>\n",
       "      <th>tagline</th>\n",
       "      <th>...</th>\n",
       "      <th>overview</th>\n",
       "      <th>runtime</th>\n",
       "      <th>genres</th>\n",
       "      <th>production_companies</th>\n",
       "      <th>release_date</th>\n",
       "      <th>vote_count</th>\n",
       "      <th>vote_average</th>\n",
       "      <th>release_year</th>\n",
       "      <th>budget_adj</th>\n",
       "      <th>revenue_adj</th>\n",
       "    </tr>\n",
       "  </thead>\n",
       "  <tbody>\n",
       "    <tr>\n",
       "      <th>0</th>\n",
       "      <td>135397</td>\n",
       "      <td>tt0369610</td>\n",
       "      <td>32.985763</td>\n",
       "      <td>150000000</td>\n",
       "      <td>1513528810</td>\n",
       "      <td>Jurassic World</td>\n",
       "      <td>Chris Pratt|Bryce Dallas Howard|Irrfan Khan|Vi...</td>\n",
       "      <td>http://www.jurassicworld.com/</td>\n",
       "      <td>Colin Trevorrow</td>\n",
       "      <td>The park is open.</td>\n",
       "      <td>...</td>\n",
       "      <td>Twenty-two years after the events of Jurassic ...</td>\n",
       "      <td>124</td>\n",
       "      <td>Action|Adventure|Science Fiction|Thriller</td>\n",
       "      <td>Universal Studios|Amblin Entertainment|Legenda...</td>\n",
       "      <td>6/9/15</td>\n",
       "      <td>5562</td>\n",
       "      <td>6.5</td>\n",
       "      <td>2015</td>\n",
       "      <td>1.379999e+08</td>\n",
       "      <td>1.392446e+09</td>\n",
       "    </tr>\n",
       "    <tr>\n",
       "      <th>1</th>\n",
       "      <td>76341</td>\n",
       "      <td>tt1392190</td>\n",
       "      <td>28.419936</td>\n",
       "      <td>150000000</td>\n",
       "      <td>378436354</td>\n",
       "      <td>Mad Max: Fury Road</td>\n",
       "      <td>Tom Hardy|Charlize Theron|Hugh Keays-Byrne|Nic...</td>\n",
       "      <td>http://www.madmaxmovie.com/</td>\n",
       "      <td>George Miller</td>\n",
       "      <td>What a Lovely Day.</td>\n",
       "      <td>...</td>\n",
       "      <td>An apocalyptic story set in the furthest reach...</td>\n",
       "      <td>120</td>\n",
       "      <td>Action|Adventure|Science Fiction|Thriller</td>\n",
       "      <td>Village Roadshow Pictures|Kennedy Miller Produ...</td>\n",
       "      <td>5/13/15</td>\n",
       "      <td>6185</td>\n",
       "      <td>7.1</td>\n",
       "      <td>2015</td>\n",
       "      <td>1.379999e+08</td>\n",
       "      <td>3.481613e+08</td>\n",
       "    </tr>\n",
       "    <tr>\n",
       "      <th>2</th>\n",
       "      <td>262500</td>\n",
       "      <td>tt2908446</td>\n",
       "      <td>13.112507</td>\n",
       "      <td>110000000</td>\n",
       "      <td>295238201</td>\n",
       "      <td>Insurgent</td>\n",
       "      <td>Shailene Woodley|Theo James|Kate Winslet|Ansel...</td>\n",
       "      <td>http://www.thedivergentseries.movie/#insurgent</td>\n",
       "      <td>Robert Schwentke</td>\n",
       "      <td>One Choice Can Destroy You</td>\n",
       "      <td>...</td>\n",
       "      <td>Beatrice Prior must confront her inner demons ...</td>\n",
       "      <td>119</td>\n",
       "      <td>Adventure|Science Fiction|Thriller</td>\n",
       "      <td>Summit Entertainment|Mandeville Films|Red Wago...</td>\n",
       "      <td>3/18/15</td>\n",
       "      <td>2480</td>\n",
       "      <td>6.3</td>\n",
       "      <td>2015</td>\n",
       "      <td>1.012000e+08</td>\n",
       "      <td>2.716190e+08</td>\n",
       "    </tr>\n",
       "    <tr>\n",
       "      <th>3</th>\n",
       "      <td>140607</td>\n",
       "      <td>tt2488496</td>\n",
       "      <td>11.173104</td>\n",
       "      <td>200000000</td>\n",
       "      <td>2068178225</td>\n",
       "      <td>Star Wars: The Force Awakens</td>\n",
       "      <td>Harrison Ford|Mark Hamill|Carrie Fisher|Adam D...</td>\n",
       "      <td>http://www.starwars.com/films/star-wars-episod...</td>\n",
       "      <td>J.J. Abrams</td>\n",
       "      <td>Every generation has a story.</td>\n",
       "      <td>...</td>\n",
       "      <td>Thirty years after defeating the Galactic Empi...</td>\n",
       "      <td>136</td>\n",
       "      <td>Action|Adventure|Science Fiction|Fantasy</td>\n",
       "      <td>Lucasfilm|Truenorth Productions|Bad Robot</td>\n",
       "      <td>12/15/15</td>\n",
       "      <td>5292</td>\n",
       "      <td>7.5</td>\n",
       "      <td>2015</td>\n",
       "      <td>1.839999e+08</td>\n",
       "      <td>1.902723e+09</td>\n",
       "    </tr>\n",
       "    <tr>\n",
       "      <th>4</th>\n",
       "      <td>168259</td>\n",
       "      <td>tt2820852</td>\n",
       "      <td>9.335014</td>\n",
       "      <td>190000000</td>\n",
       "      <td>1506249360</td>\n",
       "      <td>Furious 7</td>\n",
       "      <td>Vin Diesel|Paul Walker|Jason Statham|Michelle ...</td>\n",
       "      <td>http://www.furious7.com/</td>\n",
       "      <td>James Wan</td>\n",
       "      <td>Vengeance Hits Home</td>\n",
       "      <td>...</td>\n",
       "      <td>Deckard Shaw seeks revenge against Dominic Tor...</td>\n",
       "      <td>137</td>\n",
       "      <td>Action|Crime|Thriller</td>\n",
       "      <td>Universal Pictures|Original Film|Media Rights ...</td>\n",
       "      <td>4/1/15</td>\n",
       "      <td>2947</td>\n",
       "      <td>7.3</td>\n",
       "      <td>2015</td>\n",
       "      <td>1.747999e+08</td>\n",
       "      <td>1.385749e+09</td>\n",
       "    </tr>\n",
       "  </tbody>\n",
       "</table>\n",
       "<p>5 rows × 21 columns</p>\n",
       "</div>"
      ],
      "text/plain": [
       "       id    imdb_id  popularity     budget     revenue  \\\n",
       "0  135397  tt0369610   32.985763  150000000  1513528810   \n",
       "1   76341  tt1392190   28.419936  150000000   378436354   \n",
       "2  262500  tt2908446   13.112507  110000000   295238201   \n",
       "3  140607  tt2488496   11.173104  200000000  2068178225   \n",
       "4  168259  tt2820852    9.335014  190000000  1506249360   \n",
       "\n",
       "                 original_title  \\\n",
       "0                Jurassic World   \n",
       "1            Mad Max: Fury Road   \n",
       "2                     Insurgent   \n",
       "3  Star Wars: The Force Awakens   \n",
       "4                     Furious 7   \n",
       "\n",
       "                                                cast  \\\n",
       "0  Chris Pratt|Bryce Dallas Howard|Irrfan Khan|Vi...   \n",
       "1  Tom Hardy|Charlize Theron|Hugh Keays-Byrne|Nic...   \n",
       "2  Shailene Woodley|Theo James|Kate Winslet|Ansel...   \n",
       "3  Harrison Ford|Mark Hamill|Carrie Fisher|Adam D...   \n",
       "4  Vin Diesel|Paul Walker|Jason Statham|Michelle ...   \n",
       "\n",
       "                                            homepage          director  \\\n",
       "0                      http://www.jurassicworld.com/   Colin Trevorrow   \n",
       "1                        http://www.madmaxmovie.com/     George Miller   \n",
       "2     http://www.thedivergentseries.movie/#insurgent  Robert Schwentke   \n",
       "3  http://www.starwars.com/films/star-wars-episod...       J.J. Abrams   \n",
       "4                           http://www.furious7.com/         James Wan   \n",
       "\n",
       "                         tagline  ...  \\\n",
       "0              The park is open.  ...   \n",
       "1             What a Lovely Day.  ...   \n",
       "2     One Choice Can Destroy You  ...   \n",
       "3  Every generation has a story.  ...   \n",
       "4            Vengeance Hits Home  ...   \n",
       "\n",
       "                                            overview runtime  \\\n",
       "0  Twenty-two years after the events of Jurassic ...     124   \n",
       "1  An apocalyptic story set in the furthest reach...     120   \n",
       "2  Beatrice Prior must confront her inner demons ...     119   \n",
       "3  Thirty years after defeating the Galactic Empi...     136   \n",
       "4  Deckard Shaw seeks revenge against Dominic Tor...     137   \n",
       "\n",
       "                                      genres  \\\n",
       "0  Action|Adventure|Science Fiction|Thriller   \n",
       "1  Action|Adventure|Science Fiction|Thriller   \n",
       "2         Adventure|Science Fiction|Thriller   \n",
       "3   Action|Adventure|Science Fiction|Fantasy   \n",
       "4                      Action|Crime|Thriller   \n",
       "\n",
       "                                production_companies release_date vote_count  \\\n",
       "0  Universal Studios|Amblin Entertainment|Legenda...       6/9/15       5562   \n",
       "1  Village Roadshow Pictures|Kennedy Miller Produ...      5/13/15       6185   \n",
       "2  Summit Entertainment|Mandeville Films|Red Wago...      3/18/15       2480   \n",
       "3          Lucasfilm|Truenorth Productions|Bad Robot     12/15/15       5292   \n",
       "4  Universal Pictures|Original Film|Media Rights ...       4/1/15       2947   \n",
       "\n",
       "   vote_average  release_year    budget_adj   revenue_adj  \n",
       "0           6.5          2015  1.379999e+08  1.392446e+09  \n",
       "1           7.1          2015  1.379999e+08  3.481613e+08  \n",
       "2           6.3          2015  1.012000e+08  2.716190e+08  \n",
       "3           7.5          2015  1.839999e+08  1.902723e+09  \n",
       "4           7.3          2015  1.747999e+08  1.385749e+09  \n",
       "\n",
       "[5 rows x 21 columns]"
      ]
     },
     "execution_count": 3,
     "metadata": {},
     "output_type": "execute_result"
    }
   ],
   "source": [
    "df.head()"
   ]
  },
  {
   "cell_type": "code",
   "execution_count": 4,
   "metadata": {},
   "outputs": [
    {
     "data": {
      "text/plain": [
       "(10866, 21)"
      ]
     },
     "execution_count": 4,
     "metadata": {},
     "output_type": "execute_result"
    }
   ],
   "source": [
    "# Check the dimension of the dataframe\n",
    "df.shape"
   ]
  },
  {
   "cell_type": "code",
   "execution_count": 5,
   "metadata": {},
   "outputs": [
    {
     "name": "stdout",
     "output_type": "stream",
     "text": [
      "<class 'pandas.core.frame.DataFrame'>\n",
      "RangeIndex: 10866 entries, 0 to 10865\n",
      "Data columns (total 21 columns):\n",
      "id                      10866 non-null int64\n",
      "imdb_id                 10856 non-null object\n",
      "popularity              10866 non-null float64\n",
      "budget                  10866 non-null int64\n",
      "revenue                 10866 non-null int64\n",
      "original_title          10866 non-null object\n",
      "cast                    10790 non-null object\n",
      "homepage                2936 non-null object\n",
      "director                10822 non-null object\n",
      "tagline                 8042 non-null object\n",
      "keywords                9373 non-null object\n",
      "overview                10862 non-null object\n",
      "runtime                 10866 non-null int64\n",
      "genres                  10843 non-null object\n",
      "production_companies    9836 non-null object\n",
      "release_date            10866 non-null object\n",
      "vote_count              10866 non-null int64\n",
      "vote_average            10866 non-null float64\n",
      "release_year            10866 non-null int64\n",
      "budget_adj              10866 non-null float64\n",
      "revenue_adj             10866 non-null float64\n",
      "dtypes: float64(4), int64(6), object(11)\n",
      "memory usage: 1.7+ MB\n"
     ]
    }
   ],
   "source": [
    "# Check the data types and find out if there are missing values of data\n",
    "df.info()"
   ]
  },
  {
   "cell_type": "markdown",
   "metadata": {},
   "source": [
    "##### Before I drop any missing values, I want to drop the columns that I would not use the data for this analysis. The reason I drop id and imdb_id is because these are indexing numbers that can not be used as reference. The data under Homepage, Tagline, Keywords, Overview are combined strings can not be used to compute. I select Release year instead of Release data for the year comparision. And I drop budget_adj and revenue_adj because those data are not representative for budget and revenue.**"
   ]
  },
  {
   "cell_type": "code",
   "execution_count": 6,
   "metadata": {},
   "outputs": [],
   "source": [
    "df.drop(['id','imdb_id','homepage','tagline','keywords','overview','release_date','budget_adj','revenue_adj'],\n",
    "        axis = 1,inplace = True)"
   ]
  },
  {
   "cell_type": "code",
   "execution_count": 7,
   "metadata": {},
   "outputs": [],
   "source": [
    "# Drop the null values\n",
    "df.dropna(inplace = True)"
   ]
  },
  {
   "cell_type": "code",
   "execution_count": 8,
   "metadata": {},
   "outputs": [
    {
     "data": {
      "text/plain": [
       "1"
      ]
     },
     "execution_count": 8,
     "metadata": {},
     "output_type": "execute_result"
    }
   ],
   "source": [
    "# Check the number of duplicate rows\n",
    "sum(df.duplicated())"
   ]
  },
  {
   "cell_type": "code",
   "execution_count": 9,
   "metadata": {},
   "outputs": [],
   "source": [
    "# Drop the duplicate values\n",
    "df.drop_duplicates(inplace = True)"
   ]
  },
  {
   "cell_type": "markdown",
   "metadata": {},
   "source": [
    "##### Next I want to drop the rows with zero values under Popularity, Budget, Revenue, Runtime, Vote_average and Vote_count. Since I will analyze the data with multiple variables together, having zero values will affect the output."
   ]
  },
  {
   "cell_type": "code",
   "execution_count": 10,
   "metadata": {},
   "outputs": [],
   "source": [
    "df = df[(df[['popularity','budget','revenue','runtime','vote_count','vote_average']]!=0).all(axis = 1)]"
   ]
  },
  {
   "cell_type": "code",
   "execution_count": 11,
   "metadata": {},
   "outputs": [
    {
     "name": "stdout",
     "output_type": "stream",
     "text": [
      "<class 'pandas.core.frame.DataFrame'>\n",
      "Int64Index: 3805 entries, 0 to 10848\n",
      "Data columns (total 12 columns):\n",
      "popularity              3805 non-null float64\n",
      "budget                  3805 non-null int64\n",
      "revenue                 3805 non-null int64\n",
      "original_title          3805 non-null object\n",
      "cast                    3805 non-null object\n",
      "director                3805 non-null object\n",
      "runtime                 3805 non-null int64\n",
      "genres                  3805 non-null object\n",
      "production_companies    3805 non-null object\n",
      "vote_count              3805 non-null int64\n",
      "vote_average            3805 non-null float64\n",
      "release_year            3805 non-null int64\n",
      "dtypes: float64(2), int64(5), object(5)\n",
      "memory usage: 386.4+ KB\n"
     ]
    }
   ],
   "source": [
    "# Check the info again to see if we have missing values.\n",
    "df.info()"
   ]
  },
  {
   "cell_type": "markdown",
   "metadata": {},
   "source": [
    "> Findings: Now the dataframe has no null values, no duplicate data with 12 columns and 3805 rows."
   ]
  },
  {
   "cell_type": "markdown",
   "metadata": {},
   "source": [
    "## Data Cleaning \n",
    "\n",
    "> **1. I start with analyze the data of popularity, this is the main variable that I would like to dig into with. At first, I want to see the statistics of popularity data.**"
   ]
  },
  {
   "cell_type": "code",
   "execution_count": 12,
   "metadata": {},
   "outputs": [
    {
     "data": {
      "text/plain": [
       "count    3805.000000\n",
       "mean        1.203784\n",
       "std         1.480569\n",
       "min         0.010335\n",
       "25%         0.470651\n",
       "50%         0.810805\n",
       "75%         1.387163\n",
       "max        32.985763\n",
       "Name: popularity, dtype: float64"
      ]
     },
     "execution_count": 12,
     "metadata": {},
     "output_type": "execute_result"
    }
   ],
   "source": [
    "# View the min, 25%, 50%, 75%, max values of popularity with Pandas describe.\n",
    "df.popularity.describe()"
   ]
  },
  {
   "cell_type": "markdown",
   "metadata": {},
   "source": [
    "> Findings: The output tells me the group of popularity has a maximum value of 32.986 but the 75th percentile of data lie under 1.387. The maximum of 32 is way big than most of its data. It is not normally distributed, it seems like the data are skewed to the left. I want to explore the distribution of this popularity data group.\n",
    "\n",
    "##### First, I want to cut the data into several groups use bin edges."
   ]
  },
  {
   "cell_type": "code",
   "execution_count": 13,
   "metadata": {},
   "outputs": [],
   "source": [
    "# Bin edges that will be used to \"cut\" the data into groups\n",
    "bin_edge = [0,0.5,0.999,10,20,30,40]"
   ]
  },
  {
   "cell_type": "code",
   "execution_count": 14,
   "metadata": {},
   "outputs": [],
   "source": [
    "# Create columns, group by and cut the data into groups\n",
    "df_cut = df.groupby(pd.cut(df.popularity, bins = bin_edge)).popularity.count()"
   ]
  },
  {
   "cell_type": "code",
   "execution_count": 15,
   "metadata": {},
   "outputs": [
    {
     "data": {
      "text/plain": [
       "<matplotlib.axes._subplots.AxesSubplot at 0x11f8eff28>"
      ]
     },
     "execution_count": 15,
     "metadata": {},
     "output_type": "execute_result"
    },
    {
     "data": {
      "image/png": "[encoded data removed]",
      "text/plain": [
       "<Figure size 432x288 with 1 Axes>"
      ]
     },
     "metadata": {
      "needs_background": "light"
     },
     "output_type": "display_data"
    }
   ],
   "source": [
    "# Plot with bar charts to see what groups of data lie in\n",
    "df_cut.plot(kind = 'bar')"
   ]
  },
  {
   "cell_type": "markdown",
   "metadata": {},
   "source": [
    "> Findings: The plot indicates that the distribution of popularity data falls into the range of (0,1). Since I have no source to understand how 'popularity' is measured from, I start to wonder if this popularity data means a 'percentage' that the data out of this range are incorrect data. I want to explore the data seems like 'outliers' more below to see if those data are valubale enough before I decide to drop them.\n",
    "\n",
    "##### Second, I want to filter the popularity data that are larger than 1."
   ]
  },
  {
   "cell_type": "code",
   "execution_count": 16,
   "metadata": {},
   "outputs": [],
   "source": [
    "df_1 = df[df['popularity'] >= 1.0]"
   ]
  },
  {
   "cell_type": "markdown",
   "metadata": {},
   "source": [
    "##### In the next steps, I want to compare the statistics of df_1 group with vote ratings and revenue."
   ]
  },
  {
   "cell_type": "code",
   "execution_count": 17,
   "metadata": {},
   "outputs": [
    {
     "data": {
      "text/plain": [
       "count    3805.000000\n",
       "mean        6.170565\n",
       "std         0.792437\n",
       "min         2.200000\n",
       "25%         5.700000\n",
       "50%         6.200000\n",
       "75%         6.700000\n",
       "max         8.400000\n",
       "Name: vote_average, dtype: float64"
      ]
     },
     "execution_count": 17,
     "metadata": {},
     "output_type": "execute_result"
    }
   ],
   "source": [
    "# Get the statistics of vote_average.\n",
    "df.vote_average.describe()"
   ]
  },
  {
   "cell_type": "code",
   "execution_count": 18,
   "metadata": {},
   "outputs": [
    {
     "data": {
      "text/plain": [
       "count    1524.000000\n",
       "mean        6.440223\n",
       "std         0.754946\n",
       "min         3.700000\n",
       "25%         5.900000\n",
       "50%         6.400000\n",
       "75%         7.000000\n",
       "max         8.400000\n",
       "Name: vote_average, dtype: float64"
      ]
     },
     "execution_count": 18,
     "metadata": {},
     "output_type": "execute_result"
    }
   ],
   "source": [
    "# Get the statistics of vote_statistics in df_1 and make comparisons.\n",
    "df_1.vote_average.describe()"
   ]
  },
  {
   "cell_type": "markdown",
   "metadata": {},
   "source": [
    "> Findings: The output indicates that df_1 group has a average 6.4 of vote scores."
   ]
  },
  {
   "cell_type": "code",
   "execution_count": 19,
   "metadata": {},
   "outputs": [
    {
     "data": {
      "text/plain": [
       "count    3.805000e+03\n",
       "mean     1.089734e+08\n",
       "std      1.772976e+08\n",
       "min      2.000000e+00\n",
       "25%      1.433379e+07\n",
       "50%      4.621664e+07\n",
       "75%      1.260695e+08\n",
       "max      2.781506e+09\n",
       "Name: revenue, dtype: float64"
      ]
     },
     "execution_count": 19,
     "metadata": {},
     "output_type": "execute_result"
    }
   ],
   "source": [
    "# Get the statistics of revenue.\n",
    "df.revenue.describe()"
   ]
  },
  {
   "cell_type": "code",
   "execution_count": 20,
   "metadata": {},
   "outputs": [
    {
     "data": {
      "text/plain": [
       "count    1.524000e+03\n",
       "mean     2.054079e+08\n",
       "std      2.361673e+08\n",
       "min      4.200000e+01\n",
       "25%      5.894727e+07\n",
       "50%      1.312332e+08\n",
       "75%      2.594294e+08\n",
       "max      2.781506e+09\n",
       "Name: revenue, dtype: float64"
      ]
     },
     "execution_count": 20,
     "metadata": {},
     "output_type": "execute_result"
    }
   ],
   "source": [
    "# Get the statistics of revenue in df_1 and make comparisons.\n",
    "df_1.revenue.describe()"
   ]
  },
  {
   "cell_type": "markdown",
   "metadata": {},
   "source": [
    "> Findings: The output indicates that df_1 group includes the maximum revenue of the whole dataset, which is 2.78 billion. This is an important data. \n",
    "\n",
    "##### I decided not to drop this group since those are meaningful data for exploration on revenue and rating score as variables. The df_1 group which out of range (0,1) shows high vote scores and high revenue. It also includes the movie data with maximum revenue. "
   ]
  },
  {
   "cell_type": "markdown",
   "metadata": {},
   "source": [
    "\n",
    "\n",
    "\n",
    "> **2. In the next steps I start to clean the genres data, which I found out the data contains constrains ' | ' . I will split the strings. and use apply function to append the new column of genre to the dataframe.**"
   ]
  },
  {
   "cell_type": "code",
   "execution_count": 21,
   "metadata": {
    "scrolled": true
   },
   "outputs": [
    {
     "data": {
      "text/plain": [
       "Drama                                                243\n",
       "Comedy                                               230\n",
       "Drama|Romance                                        106\n",
       "Comedy|Romance                                       103\n",
       "Comedy|Drama|Romance                                  87\n",
       "Comedy|Drama                                          85\n",
       "Horror|Thriller                                       80\n",
       "Horror                                                57\n",
       "Drama|Thriller                                        47\n",
       "Action|Thriller                                       39\n",
       "Crime|Drama|Thriller                                  37\n",
       "Drama|Comedy                                          36\n",
       "Comedy|Family                                         32\n",
       "Action|Crime|Thriller                                 31\n",
       "Drama|History                                         27\n",
       "Drama|Crime                                           27\n",
       "Crime|Drama                                           26\n",
       "Action|Crime|Drama|Thriller                           25\n",
       "Drama|Comedy|Romance                                  25\n",
       "Thriller                                              25\n",
       "Comedy|Crime                                          22\n",
       "Adventure|Action|Thriller                             22\n",
       "Action|Thriller|Crime                                 22\n",
       "Action                                                21\n",
       "Horror|Mystery|Thriller                               21\n",
       "Action|Adventure|Thriller                             20\n",
       "Action|Comedy                                         20\n",
       "Crime|Drama|Mystery|Thriller                          18\n",
       "Animation|Family                                      18\n",
       "Action|Comedy|Crime                                   17\n",
       "                                                    ... \n",
       "Drama|Horror|Thriller|Crime                            1\n",
       "Comedy|Action|Adventure                                1\n",
       "Comedy|Fantasy|Science Fiction                         1\n",
       "Horror|Science Fiction|Fantasy                         1\n",
       "Western|Adventure                                      1\n",
       "Comedy|Drama|Adventure                                 1\n",
       "Science Fiction|Comedy|Crime                           1\n",
       "Adventure|Comedy|Drama|Fantasy                         1\n",
       "Action|Adventure|Science Fiction|Fantasy               1\n",
       "Drama|Action|Western|Romance                           1\n",
       "Thriller|Crime|Drama|Action                            1\n",
       "Action|Drama|War                                       1\n",
       "Thriller|Crime|Horror                                  1\n",
       "Action|Comedy|Drama|Thriller                           1\n",
       "Animation|Adventure|Comedy|Family|Action               1\n",
       "Music|Drama|Crime|Romance                              1\n",
       "Action|Comedy|Western                                  1\n",
       "Science Fiction|Action|Thriller|Adventure              1\n",
       "Drama|Adventure|Western                                1\n",
       "Action|Adventure|Comedy|Western                        1\n",
       "Action|Adventure|Drama|Thriller|Western                1\n",
       "Fantasy|Drama|Horror|Thriller                          1\n",
       "Comedy|Drama|Romance|Thriller                          1\n",
       "Fantasy|Action|Drama                                   1\n",
       "Comedy|Thriller|Crime|Action                           1\n",
       "Horror|Thriller|Mystery|Fantasy                        1\n",
       "Drama|Fantasy|Mystery|Romance                          1\n",
       "Action|Adventure|Horror|Thriller                       1\n",
       "Science Fiction|Animation|Family|Comedy|Adventure      1\n",
       "Action|Thriller|Drama|Western|Crime                    1\n",
       "Name: genres, Length: 1043, dtype: int64"
      ]
     },
     "execution_count": 21,
     "metadata": {},
     "output_type": "execute_result"
    }
   ],
   "source": [
    "# ccounts how many gernres in the genres column\n",
    "df.genres.value_counts()"
   ]
  },
  {
   "cell_type": "code",
   "execution_count": 22,
   "metadata": {},
   "outputs": [
    {
     "data": {
      "text/plain": [
       "1043"
      ]
     },
     "execution_count": 22,
     "metadata": {},
     "output_type": "execute_result"
    }
   ],
   "source": [
    "df.genres.value_counts().count()"
   ]
  },
  {
   "cell_type": "markdown",
   "metadata": {},
   "source": [
    "> Findings: Without cleaning the genres data, there will be 1043 unique genres. This makes genres a complicated and imprecise category to analyze. Therefore it is necessary to split the columns."
   ]
  },
  {
   "cell_type": "code",
   "execution_count": 23,
   "metadata": {},
   "outputs": [],
   "source": [
    "# Define a split function\n",
    "def g(gen):\n",
    "    return gen.split('|')\n",
    "\n",
    "# Apply split function\n",
    "df['gen'] = df.genres.apply(g)"
   ]
  },
  {
   "cell_type": "code",
   "execution_count": 24,
   "metadata": {},
   "outputs": [],
   "source": [
    "# Use join to split the strings with comma, call this a new column: genre_name\n",
    "df['genre_name'] = df['gen'].apply(','.join)"
   ]
  },
  {
   "cell_type": "code",
   "execution_count": 25,
   "metadata": {},
   "outputs": [
    {
     "data": {
      "text/plain": [
       "0              Action,Adventure,Science Fiction,Thriller\n",
       "1              Action,Adventure,Science Fiction,Thriller\n",
       "2                     Adventure,Science Fiction,Thriller\n",
       "3               Action,Adventure,Science Fiction,Fantasy\n",
       "4                                  Action,Crime,Thriller\n",
       "5                       Western,Drama,Adventure,Thriller\n",
       "6              Science Fiction,Action,Thriller,Adventure\n",
       "7                        Drama,Adventure,Science Fiction\n",
       "8                      Family,Animation,Adventure,Comedy\n",
       "9                                Comedy,Animation,Family\n",
       "10                                Action,Adventure,Crime\n",
       "11              Science Fiction,Fantasy,Action,Adventure\n",
       "12                                 Drama,Science Fiction\n",
       "13                         Action,Comedy,Science Fiction\n",
       "14                      Action,Adventure,Science Fiction\n",
       "15                           Crime,Drama,Mystery,Western\n",
       "16                                 Crime,Action,Thriller\n",
       "17                      Science Fiction,Action,Adventure\n",
       "18                          Romance,Fantasy,Family,Drama\n",
       "19                         War,Adventure,Science Fiction\n",
       "20       Action,Family,Science Fiction,Adventure,Mystery\n",
       "21                                          Action,Drama\n",
       "22                                 Action,Drama,Thriller\n",
       "23                                         Drama,Romance\n",
       "24                                          Comedy,Drama\n",
       "25                                                Action\n",
       "26                                                Comedy\n",
       "27                         Crime,Comedy,Action,Adventure\n",
       "28                                Drama,Thriller,History\n",
       "29                       Action,Science Fiction,Thriller\n",
       "                              ...                       \n",
       "10690                         Drama,Family,Music,Romance\n",
       "10691                                  Drama,Romance,War\n",
       "10692                            Action,Adventure,Comedy\n",
       "10716                                      Drama,History\n",
       "10724                          Adventure,Action,Thriller\n",
       "10725                        History,Drama,Western,Crime\n",
       "10727                                              Drama\n",
       "10728                                  Adventure,Western\n",
       "10755                                              Music\n",
       "10756                                    Horror,Thriller\n",
       "10757                                             Horror\n",
       "10758           Adventure,Fantasy,Action,Science Fiction\n",
       "10759                                    Horror,Thriller\n",
       "10760                                             Comedy\n",
       "10762                                          Drama,War\n",
       "10770                                        Drama,Crime\n",
       "10771                          Drama,Animation,Adventure\n",
       "10775                                            Mystery\n",
       "10777                                       Drama,Action\n",
       "10778                      Action,Adventure,War,Thriller\n",
       "10779                                Action,Comedy,Drama\n",
       "10780            Horror,Thriller,Science Fiction,Mystery\n",
       "10788     Adventure,Family,Fantasy,Music,Science Fiction\n",
       "10791                       Action,Drama,Horror,Thriller\n",
       "10793                          Adventure,Animation,Drama\n",
       "10822                                              Drama\n",
       "10828                                   Mystery,Thriller\n",
       "10829                                     Action,Western\n",
       "10835                 Action,Adventure,Drama,War,Romance\n",
       "10848                          Adventure,Science Fiction\n",
       "Name: genre_name, Length: 3805, dtype: object"
      ]
     },
     "execution_count": 25,
     "metadata": {},
     "output_type": "execute_result"
    }
   ],
   "source": [
    "# Check the new column to see the data type\n",
    "df.genre_name"
   ]
  },
  {
   "cell_type": "markdown",
   "metadata": {},
   "source": [
    "> Findings: Now the gernes columns has strings seperated by comma."
   ]
  },
  {
   "cell_type": "markdown",
   "metadata": {},
   "source": [
    "> **3. Use same method to split cast, production companies and directors that contains constrain ' | '. And create new columns with strings seperate by comma.**"
   ]
  },
  {
   "cell_type": "code",
   "execution_count": 26,
   "metadata": {},
   "outputs": [],
   "source": [
    "# Split cast column. Create new column 'cast_name'.\n",
    "def c(cas):\n",
    "    return cas.split('|')\n",
    "\n",
    "df['cas'] = df.cast.apply(c)\n",
    "df['cast_name'] = df['cas'].apply(','.join)"
   ]
  },
  {
   "cell_type": "code",
   "execution_count": 27,
   "metadata": {},
   "outputs": [],
   "source": [
    "# Split production_company column. Create new column 'production'.\n",
    "def p(pro):\n",
    "    return pro.split('|')\n",
    "\n",
    "df['pro'] = df.production_companies.apply(p)\n",
    "df['production'] = df['pro'].apply(','.join)"
   ]
  },
  {
   "cell_type": "code",
   "execution_count": 28,
   "metadata": {},
   "outputs": [],
   "source": [
    "# Split director column. Create new column 'director_name'.\n",
    "def d(dir):\n",
    "    return dir.split('|')\n",
    "\n",
    "df['dir'] = df.director.apply(d)\n",
    "df['director_name'] = df['dir'].apply(','.join)"
   ]
  },
  {
   "cell_type": "markdown",
   "metadata": {},
   "source": [
    "> **4. Now we have three new columns, it is necessary to drop the original columns that will not be used.**"
   ]
  },
  {
   "cell_type": "code",
   "execution_count": 29,
   "metadata": {},
   "outputs": [],
   "source": [
    "# Use drop to delete the orinigal columns.\n",
    "df.drop(columns = ['genres','gen','cast','cas','production_companies','pro','director','dir'],inplace = True)"
   ]
  },
  {
   "cell_type": "code",
   "execution_count": 30,
   "metadata": {},
   "outputs": [
    {
     "data": {
      "text/html": [
       "<div>\n",
       "<style scoped>\n",
       "    .dataframe tbody tr th:only-of-type {\n",
       "        vertical-align: middle;\n",
       "    }\n",
       "\n",
       "    .dataframe tbody tr th {\n",
       "        vertical-align: top;\n",
       "    }\n",
       "\n",
       "    .dataframe thead th {\n",
       "        text-align: right;\n",
       "    }\n",
       "</style>\n",
       "<table border=\"1\" class=\"dataframe\">\n",
       "  <thead>\n",
       "    <tr style=\"text-align: right;\">\n",
       "      <th></th>\n",
       "      <th>popularity</th>\n",
       "      <th>budget</th>\n",
       "      <th>revenue</th>\n",
       "      <th>original_title</th>\n",
       "      <th>runtime</th>\n",
       "      <th>vote_count</th>\n",
       "      <th>vote_average</th>\n",
       "      <th>release_year</th>\n",
       "      <th>genre_name</th>\n",
       "      <th>cast_name</th>\n",
       "      <th>production</th>\n",
       "      <th>director_name</th>\n",
       "    </tr>\n",
       "  </thead>\n",
       "  <tbody>\n",
       "    <tr>\n",
       "      <th>0</th>\n",
       "      <td>32.985763</td>\n",
       "      <td>150000000</td>\n",
       "      <td>1513528810</td>\n",
       "      <td>Jurassic World</td>\n",
       "      <td>124</td>\n",
       "      <td>5562</td>\n",
       "      <td>6.5</td>\n",
       "      <td>2015</td>\n",
       "      <td>Action,Adventure,Science Fiction,Thriller</td>\n",
       "      <td>Chris Pratt,Bryce Dallas Howard,Irrfan Khan,Vi...</td>\n",
       "      <td>Universal Studios,Amblin Entertainment,Legenda...</td>\n",
       "      <td>Colin Trevorrow</td>\n",
       "    </tr>\n",
       "    <tr>\n",
       "      <th>1</th>\n",
       "      <td>28.419936</td>\n",
       "      <td>150000000</td>\n",
       "      <td>378436354</td>\n",
       "      <td>Mad Max: Fury Road</td>\n",
       "      <td>120</td>\n",
       "      <td>6185</td>\n",
       "      <td>7.1</td>\n",
       "      <td>2015</td>\n",
       "      <td>Action,Adventure,Science Fiction,Thriller</td>\n",
       "      <td>Tom Hardy,Charlize Theron,Hugh Keays-Byrne,Nic...</td>\n",
       "      <td>Village Roadshow Pictures,Kennedy Miller Produ...</td>\n",
       "      <td>George Miller</td>\n",
       "    </tr>\n",
       "    <tr>\n",
       "      <th>2</th>\n",
       "      <td>13.112507</td>\n",
       "      <td>110000000</td>\n",
       "      <td>295238201</td>\n",
       "      <td>Insurgent</td>\n",
       "      <td>119</td>\n",
       "      <td>2480</td>\n",
       "      <td>6.3</td>\n",
       "      <td>2015</td>\n",
       "      <td>Adventure,Science Fiction,Thriller</td>\n",
       "      <td>Shailene Woodley,Theo James,Kate Winslet,Ansel...</td>\n",
       "      <td>Summit Entertainment,Mandeville Films,Red Wago...</td>\n",
       "      <td>Robert Schwentke</td>\n",
       "    </tr>\n",
       "    <tr>\n",
       "      <th>3</th>\n",
       "      <td>11.173104</td>\n",
       "      <td>200000000</td>\n",
       "      <td>2068178225</td>\n",
       "      <td>Star Wars: The Force Awakens</td>\n",
       "      <td>136</td>\n",
       "      <td>5292</td>\n",
       "      <td>7.5</td>\n",
       "      <td>2015</td>\n",
       "      <td>Action,Adventure,Science Fiction,Fantasy</td>\n",
       "      <td>Harrison Ford,Mark Hamill,Carrie Fisher,Adam D...</td>\n",
       "      <td>Lucasfilm,Truenorth Productions,Bad Robot</td>\n",
       "      <td>J.J. Abrams</td>\n",
       "    </tr>\n",
       "    <tr>\n",
       "      <th>4</th>\n",
       "      <td>9.335014</td>\n",
       "      <td>190000000</td>\n",
       "      <td>1506249360</td>\n",
       "      <td>Furious 7</td>\n",
       "      <td>137</td>\n",
       "      <td>2947</td>\n",
       "      <td>7.3</td>\n",
       "      <td>2015</td>\n",
       "      <td>Action,Crime,Thriller</td>\n",
       "      <td>Vin Diesel,Paul Walker,Jason Statham,Michelle ...</td>\n",
       "      <td>Universal Pictures,Original Film,Media Rights ...</td>\n",
       "      <td>James Wan</td>\n",
       "    </tr>\n",
       "  </tbody>\n",
       "</table>\n",
       "</div>"
      ],
      "text/plain": [
       "   popularity     budget     revenue                original_title  runtime  \\\n",
       "0   32.985763  150000000  1513528810                Jurassic World      124   \n",
       "1   28.419936  150000000   378436354            Mad Max: Fury Road      120   \n",
       "2   13.112507  110000000   295238201                     Insurgent      119   \n",
       "3   11.173104  200000000  2068178225  Star Wars: The Force Awakens      136   \n",
       "4    9.335014  190000000  1506249360                     Furious 7      137   \n",
       "\n",
       "   vote_count  vote_average  release_year  \\\n",
       "0        5562           6.5          2015   \n",
       "1        6185           7.1          2015   \n",
       "2        2480           6.3          2015   \n",
       "3        5292           7.5          2015   \n",
       "4        2947           7.3          2015   \n",
       "\n",
       "                                  genre_name  \\\n",
       "0  Action,Adventure,Science Fiction,Thriller   \n",
       "1  Action,Adventure,Science Fiction,Thriller   \n",
       "2         Adventure,Science Fiction,Thriller   \n",
       "3   Action,Adventure,Science Fiction,Fantasy   \n",
       "4                      Action,Crime,Thriller   \n",
       "\n",
       "                                           cast_name  \\\n",
       "0  Chris Pratt,Bryce Dallas Howard,Irrfan Khan,Vi...   \n",
       "1  Tom Hardy,Charlize Theron,Hugh Keays-Byrne,Nic...   \n",
       "2  Shailene Woodley,Theo James,Kate Winslet,Ansel...   \n",
       "3  Harrison Ford,Mark Hamill,Carrie Fisher,Adam D...   \n",
       "4  Vin Diesel,Paul Walker,Jason Statham,Michelle ...   \n",
       "\n",
       "                                          production     director_name  \n",
       "0  Universal Studios,Amblin Entertainment,Legenda...   Colin Trevorrow  \n",
       "1  Village Roadshow Pictures,Kennedy Miller Produ...     George Miller  \n",
       "2  Summit Entertainment,Mandeville Films,Red Wago...  Robert Schwentke  \n",
       "3          Lucasfilm,Truenorth Productions,Bad Robot       J.J. Abrams  \n",
       "4  Universal Pictures,Original Film,Media Rights ...         James Wan  "
      ]
     },
     "execution_count": 30,
     "metadata": {},
     "output_type": "execute_result"
    }
   ],
   "source": [
    "# Check the dataframe\n",
    "df.head()"
   ]
  },
  {
   "cell_type": "markdown",
   "metadata": {},
   "source": [
    "<a id='eda'></a>\n",
    "## Exploratory Data Analysis\n",
    "\n",
    "### Explores with The 'Top10' plots. \n",
    "> **Given the data with movies, first I would like to plots with the Top10 ranking of movies in different categories.**\n"
   ]
  },
  {
   "cell_type": "code",
   "execution_count": 31,
   "metadata": {},
   "outputs": [],
   "source": [
    "# Look for the Top10 Popular movie.\n",
    "df_top10movies = df.sort_values(by = ['popularity'],ascending = False).iloc[:10,:]"
   ]
  },
  {
   "cell_type": "code",
   "execution_count": 32,
   "metadata": {},
   "outputs": [
    {
     "data": {
      "image/png": "[encoded data removed]",
      "text/plain": [
       "<Figure size 432x288 with 1 Axes>"
      ]
     },
     "metadata": {
      "needs_background": "light"
     },
     "output_type": "display_data"
    }
   ],
   "source": [
    "plt.barh(df_top10movies.original_title, df_top10movies.popularity)\n",
    "plt.ylabel(\"Movie Titles\")\n",
    "plt.xlabel(\"Popularity\")\n",
    "plt.title(\"Top 10 Popular movie\")\n",
    "plt.show()"
   ]
  },
  {
   "cell_type": "code",
   "execution_count": 33,
   "metadata": {},
   "outputs": [
    {
     "data": {
      "image/png": "[encoded data removed]",
      "text/plain": [
       "<Figure size 432x288 with 1 Axes>"
      ]
     },
     "metadata": {
      "needs_background": "light"
     },
     "output_type": "display_data"
    }
   ],
   "source": [
    "# Look for the Top10 movie with revenue ranking.\n",
    "df_top10revenue = df.sort_values(by = ['revenue'],ascending = False).iloc[:10,:]\n",
    "plt.barh(df_top10revenue.original_title, df_top10revenue.revenue)\n",
    "plt.ylabel(\"Movie Titles\")\n",
    "plt.xlabel(\"Revenue\")\n",
    "plt.title(\"Top 10 Revenue movie\")\n",
    "plt.show()"
   ]
  },
  {
   "cell_type": "code",
   "execution_count": 34,
   "metadata": {},
   "outputs": [
    {
     "data": {
      "image/png": "[encoded data removed]",
      "text/plain": [
       "<Figure size 432x288 with 1 Axes>"
      ]
     },
     "metadata": {
      "needs_background": "light"
     },
     "output_type": "display_data"
    }
   ],
   "source": [
    "# Look for the Top10 movie with daily gross ranking.\n",
    "df['day_gross'] = df.revenue/df.runtime\n",
    "df_top10daygross = df.sort_values(by = ['day_gross'],ascending = False).iloc[:10,:]\n",
    "plt.barh(df_top10daygross.original_title, df_top10daygross.day_gross)\n",
    "plt.ylabel(\"Movie Titles\")\n",
    "plt.xlabel(\"Day Gross\")\n",
    "plt.title(\"Top 10 Day Gross Movie\")\n",
    "plt.show()"
   ]
  },
  {
   "cell_type": "code",
   "execution_count": 35,
   "metadata": {},
   "outputs": [
    {
     "data": {
      "text/plain": [
       "5425    4.946136\n",
       "Name: popularity, dtype: float64"
      ]
     },
     "execution_count": 35,
     "metadata": {},
     "output_type": "execute_result"
    }
   ],
   "source": [
    "df[df['original_title']=='Iron Man 3'].popularity"
   ]
  },
  {
   "cell_type": "code",
   "execution_count": 36,
   "metadata": {},
   "outputs": [
    {
     "data": {
      "text/plain": [
       "5231    4.355219\n",
       "Name: popularity, dtype: float64"
      ]
     },
     "execution_count": 36,
     "metadata": {},
     "output_type": "execute_result"
    }
   ],
   "source": [
    "df[df['original_title'] == 'Titanic'].popularity"
   ]
  },
  {
   "cell_type": "markdown",
   "metadata": {},
   "source": [
    "> Findings: Iron man 3 and Titanic are in Top10 Revenue list but not Top10 Day Gross list. Both movies tend to have longer runtime compare to other movies that have high revenues."
   ]
  },
  {
   "cell_type": "code",
   "execution_count": 37,
   "metadata": {
    "scrolled": true
   },
   "outputs": [
    {
     "data": {
      "image/png": "[encoded data removed]",
      "text/plain": [
       "<Figure size 432x288 with 1 Axes>"
      ]
     },
     "metadata": {
      "needs_background": "light"
     },
     "output_type": "display_data"
    }
   ],
   "source": [
    "# Look for the Top10 movie with profit ranking.\n",
    "df['profit'] = df.revenue - df.budget\n",
    "df_top10profit = df.sort_values(by = ['profit'],ascending = False).iloc[:10,:]\n",
    "plt.barh(df_top10profit.original_title, df_top10profit.revenue)\n",
    "plt.ylabel(\"Movie Titles\")\n",
    "plt.xlabel(\"Profit\")\n",
    "plt.title(\"Top 10 Profit movie\")\n",
    "plt.show()"
   ]
  },
  {
   "cell_type": "markdown",
   "metadata": {},
   "source": [
    "> Findings: Most of movies in Top10 revenue ranking has high profits. Except for 'Toy Story 3'. And ranking for 'Frozen' also moves down in Top10 profit. The genre of both movies is Animation. I will discuss my conclusion in <a href=\"#conclusions\">Conclusions</a></li> setion. "
   ]
  },
  {
   "cell_type": "markdown",
   "metadata": {},
   "source": [
    "<a id='gen'></a>\n",
    "### Research Question 1: What genres of movie tends to have high popularity? <br>\n",
    "> **First, I want to filter out all the unique genre name.**"
   ]
  },
  {
   "cell_type": "code",
   "execution_count": 38,
   "metadata": {
    "scrolled": false
   },
   "outputs": [
    {
     "data": {
      "text/plain": [
       "Drama              1729\n",
       "Comedy             1335\n",
       "Thriller           1194\n",
       "Action             1076\n",
       "Adventure           743\n",
       "Romance             658\n",
       "Crime               649\n",
       "Science Fiction     517\n",
       "Horror              459\n",
       "Family              417\n",
       "Fantasy             395\n",
       "Mystery             343\n",
       "Animation           199\n",
       "Music               131\n",
       "History             128\n",
       "War                 119\n",
       "Western              52\n",
       "Documentary          26\n",
       "Foreign               9\n",
       "TV Movie              1\n",
       "dtype: int64"
      ]
     },
     "execution_count": 38,
     "metadata": {},
     "output_type": "execute_result"
    }
   ],
   "source": [
    "# Get unique genre names with splitting columns with comma. \n",
    "out_genre = df['genre_name'].str.split(',', expand = True).stack().value_counts()\n",
    "out_genre"
   ]
  },
  {
   "cell_type": "markdown",
   "metadata": {},
   "source": [
    "> **Compute the average popularity for each unique genre.**"
   ]
  },
  {
   "cell_type": "code",
   "execution_count": 39,
   "metadata": {},
   "outputs": [],
   "source": [
    "# Create a dataframe: genre_popularity of genres with its average popularity.\n",
    "genre_popularity = list()\n",
    "\n",
    "for g in out_genre.index:\n",
    "    popularity = df[df['genre_name'].str.contains(g)].mean().popularity\n",
    "    genre_popularity.append(popularity)"
   ]
  },
  {
   "cell_type": "code",
   "execution_count": 40,
   "metadata": {},
   "outputs": [],
   "source": [
    "# Rename the list with index and reverse dimension.\n",
    "plot1 = pd.DataFrame([out_genre.index,genre_popularity],index = ('genre','popularity')).transpose().sort_values(by = 'popularity', ascending = False)"
   ]
  },
  {
   "cell_type": "markdown",
   "metadata": {},
   "source": [
    "> **Plot Popularity Ranking for each genre.**"
   ]
  },
  {
   "cell_type": "code",
   "execution_count": 41,
   "metadata": {},
   "outputs": [
    {
     "data": {
      "image/png": "[encoded data removed]",
      "text/plain": [
       "<Figure size 1296x576 with 1 Axes>"
      ]
     },
     "metadata": {},
     "output_type": "display_data"
    }
   ],
   "source": [
    "plt.style.use('ggplot')\n",
    "heights1 = plot1.popularity\n",
    "x_pos1 = np.arange(len(plot1.genre))\n",
    "\n",
    "plt.subplots(figsize = (18,8))\n",
    "plt.bar(plot1.genre,plot1.popularity,width = 0.5,alpha = 0.5,align = 'center')\n",
    "plt.xticks(rotation = 45)\n",
    "plt.xlabel('Genre Names')\n",
    "plt.ylabel('Average Value of Popularity')\n",
    "plt.title('Popularity Ranking for Each Genre')\n",
    "\n",
    "value = np.round(heights1.astype(np.double),decimals = 4)\n",
    "for a,b in zip(x_pos1,value):\n",
    "    plt.text(a-0.4,b+0.01,str(b))\n",
    "    \n",
    "plt.show()"
   ]
  },
  {
   "cell_type": "markdown",
   "metadata": {},
   "source": [
    "> Findings: This plot helps understand the overall popularity value for each genre. Now we want to put this ranking to segment 'Year', to see which genre hits the highest popularity year by year. Maybe we will find there is a trend related. "
   ]
  },
  {
   "cell_type": "markdown",
   "metadata": {},
   "source": [
    "### 1.a. What is the highest popularity genre year by year?"
   ]
  },
  {
   "cell_type": "markdown",
   "metadata": {},
   "source": [
    "> **Compute the average popularity for each unique genre group by relase year.**"
   ]
  },
  {
   "cell_type": "code",
   "execution_count": 42,
   "metadata": {},
   "outputs": [],
   "source": [
    "# Create a dataframe year_popularity with average popularity of each genre in each year.\n",
    "year_popularity = pd.DataFrame()\n",
    "\n",
    "for g in out_genre.index:\n",
    "    df_unique = df[df['genre_name'].str.contains(g)]\n",
    "    popularity2 = df_unique.groupby('release_year').mean().popularity\n",
    "    year_popularity = pd.concat([year_popularity,popularity2],axis = 1,ignore_index = True)"
   ]
  },
  {
   "cell_type": "code",
   "execution_count": 43,
   "metadata": {},
   "outputs": [],
   "source": [
    "# Rename the dataframe with name of genres\n",
    "year_popularity.columns = out_genre.index"
   ]
  },
  {
   "cell_type": "code",
   "execution_count": 44,
   "metadata": {},
   "outputs": [],
   "source": [
    "# Reverse the dataframe\n",
    "df_reverse = year_popularity.transpose()"
   ]
  },
  {
   "cell_type": "code",
   "execution_count": 45,
   "metadata": {},
   "outputs": [
    {
     "data": {
      "text/html": [
       "<div>\n",
       "<style scoped>\n",
       "    .dataframe tbody tr th:only-of-type {\n",
       "        vertical-align: middle;\n",
       "    }\n",
       "\n",
       "    .dataframe tbody tr th {\n",
       "        vertical-align: top;\n",
       "    }\n",
       "\n",
       "    .dataframe thead th {\n",
       "        text-align: right;\n",
       "    }\n",
       "</style>\n",
       "<table border=\"1\" class=\"dataframe\">\n",
       "  <thead>\n",
       "    <tr style=\"text-align: right;\">\n",
       "      <th></th>\n",
       "      <th>1960</th>\n",
       "      <th>1961</th>\n",
       "      <th>1962</th>\n",
       "      <th>1963</th>\n",
       "      <th>1964</th>\n",
       "      <th>1965</th>\n",
       "      <th>1966</th>\n",
       "      <th>1967</th>\n",
       "      <th>1968</th>\n",
       "      <th>1969</th>\n",
       "      <th>...</th>\n",
       "      <th>2006</th>\n",
       "      <th>2007</th>\n",
       "      <th>2008</th>\n",
       "      <th>2009</th>\n",
       "      <th>2010</th>\n",
       "      <th>2011</th>\n",
       "      <th>2012</th>\n",
       "      <th>2013</th>\n",
       "      <th>2014</th>\n",
       "      <th>2015</th>\n",
       "    </tr>\n",
       "  </thead>\n",
       "  <tbody>\n",
       "    <tr>\n",
       "      <th>Drama</th>\n",
       "      <td>1.564871</td>\n",
       "      <td>0.753022</td>\n",
       "      <td>0.641333</td>\n",
       "      <td>0.558673</td>\n",
       "      <td>0.922681</td>\n",
       "      <td>0.913921</td>\n",
       "      <td>0.485092</td>\n",
       "      <td>0.782614</td>\n",
       "      <td>0.522972</td>\n",
       "      <td>1.108561</td>\n",
       "      <td>...</td>\n",
       "      <td>0.825979</td>\n",
       "      <td>0.908422</td>\n",
       "      <td>0.938528</td>\n",
       "      <td>0.978968</td>\n",
       "      <td>0.905732</td>\n",
       "      <td>0.950172</td>\n",
       "      <td>1.321512</td>\n",
       "      <td>1.219134</td>\n",
       "      <td>2.079150</td>\n",
       "      <td>2.041339</td>\n",
       "    </tr>\n",
       "    <tr>\n",
       "      <th>Comedy</th>\n",
       "      <td>0.501564</td>\n",
       "      <td>1.244521</td>\n",
       "      <td>NaN</td>\n",
       "      <td>0.920094</td>\n",
       "      <td>1.670163</td>\n",
       "      <td>0.622157</td>\n",
       "      <td>NaN</td>\n",
       "      <td>0.976019</td>\n",
       "      <td>NaN</td>\n",
       "      <td>NaN</td>\n",
       "      <td>...</td>\n",
       "      <td>0.973170</td>\n",
       "      <td>0.895763</td>\n",
       "      <td>0.909829</td>\n",
       "      <td>1.057598</td>\n",
       "      <td>0.918512</td>\n",
       "      <td>1.125697</td>\n",
       "      <td>1.201343</td>\n",
       "      <td>1.275141</td>\n",
       "      <td>2.213240</td>\n",
       "      <td>2.112686</td>\n",
       "    </tr>\n",
       "    <tr>\n",
       "      <th>Thriller</th>\n",
       "      <td>2.610362</td>\n",
       "      <td>NaN</td>\n",
       "      <td>3.170651</td>\n",
       "      <td>1.364218</td>\n",
       "      <td>1.908618</td>\n",
       "      <td>1.910465</td>\n",
       "      <td>0.402730</td>\n",
       "      <td>0.856507</td>\n",
       "      <td>0.786854</td>\n",
       "      <td>1.778746</td>\n",
       "      <td>...</td>\n",
       "      <td>1.099332</td>\n",
       "      <td>1.197928</td>\n",
       "      <td>1.221734</td>\n",
       "      <td>1.229228</td>\n",
       "      <td>1.321211</td>\n",
       "      <td>1.344428</td>\n",
       "      <td>1.330660</td>\n",
       "      <td>1.477090</td>\n",
       "      <td>2.848566</td>\n",
       "      <td>3.913396</td>\n",
       "    </tr>\n",
       "    <tr>\n",
       "      <th>Action</th>\n",
       "      <td>1.504538</td>\n",
       "      <td>0.464139</td>\n",
       "      <td>1.848380</td>\n",
       "      <td>1.357698</td>\n",
       "      <td>3.153791</td>\n",
       "      <td>1.266311</td>\n",
       "      <td>0.347789</td>\n",
       "      <td>1.338467</td>\n",
       "      <td>0.678138</td>\n",
       "      <td>1.778746</td>\n",
       "      <td>...</td>\n",
       "      <td>1.189849</td>\n",
       "      <td>1.270305</td>\n",
       "      <td>1.445200</td>\n",
       "      <td>1.769773</td>\n",
       "      <td>1.553890</td>\n",
       "      <td>1.588119</td>\n",
       "      <td>2.122119</td>\n",
       "      <td>1.902791</td>\n",
       "      <td>4.005362</td>\n",
       "      <td>5.412644</td>\n",
       "    </tr>\n",
       "    <tr>\n",
       "      <th>Adventure</th>\n",
       "      <td>1.872132</td>\n",
       "      <td>1.693268</td>\n",
       "      <td>1.621842</td>\n",
       "      <td>1.586280</td>\n",
       "      <td>3.153791</td>\n",
       "      <td>1.266311</td>\n",
       "      <td>0.253584</td>\n",
       "      <td>1.361477</td>\n",
       "      <td>1.677185</td>\n",
       "      <td>1.197318</td>\n",
       "      <td>...</td>\n",
       "      <td>1.279105</td>\n",
       "      <td>1.573169</td>\n",
       "      <td>1.386773</td>\n",
       "      <td>1.942461</td>\n",
       "      <td>2.179113</td>\n",
       "      <td>1.861790</td>\n",
       "      <td>2.517433</td>\n",
       "      <td>2.239812</td>\n",
       "      <td>5.115215</td>\n",
       "      <td>5.864179</td>\n",
       "    </tr>\n",
       "    <tr>\n",
       "      <th>Romance</th>\n",
       "      <td>0.501564</td>\n",
       "      <td>1.752027</td>\n",
       "      <td>NaN</td>\n",
       "      <td>0.862313</td>\n",
       "      <td>0.408402</td>\n",
       "      <td>1.297865</td>\n",
       "      <td>0.299911</td>\n",
       "      <td>0.719199</td>\n",
       "      <td>0.045242</td>\n",
       "      <td>NaN</td>\n",
       "      <td>...</td>\n",
       "      <td>1.033224</td>\n",
       "      <td>0.816563</td>\n",
       "      <td>1.097606</td>\n",
       "      <td>0.943594</td>\n",
       "      <td>1.021499</td>\n",
       "      <td>1.116229</td>\n",
       "      <td>1.169046</td>\n",
       "      <td>1.176037</td>\n",
       "      <td>1.446583</td>\n",
       "      <td>2.108030</td>\n",
       "    </tr>\n",
       "    <tr>\n",
       "      <th>Crime</th>\n",
       "      <td>NaN</td>\n",
       "      <td>0.900245</td>\n",
       "      <td>0.810805</td>\n",
       "      <td>NaN</td>\n",
       "      <td>0.663446</td>\n",
       "      <td>NaN</td>\n",
       "      <td>NaN</td>\n",
       "      <td>0.678960</td>\n",
       "      <td>0.786854</td>\n",
       "      <td>1.357317</td>\n",
       "      <td>...</td>\n",
       "      <td>0.945301</td>\n",
       "      <td>0.891323</td>\n",
       "      <td>1.354948</td>\n",
       "      <td>0.738147</td>\n",
       "      <td>0.983650</td>\n",
       "      <td>1.385933</td>\n",
       "      <td>1.406413</td>\n",
       "      <td>1.409273</td>\n",
       "      <td>2.026763</td>\n",
       "      <td>2.901992</td>\n",
       "    </tr>\n",
       "    <tr>\n",
       "      <th>Science Fiction</th>\n",
       "      <td>NaN</td>\n",
       "      <td>NaN</td>\n",
       "      <td>NaN</td>\n",
       "      <td>NaN</td>\n",
       "      <td>NaN</td>\n",
       "      <td>NaN</td>\n",
       "      <td>0.207257</td>\n",
       "      <td>NaN</td>\n",
       "      <td>1.502458</td>\n",
       "      <td>NaN</td>\n",
       "      <td>...</td>\n",
       "      <td>1.298784</td>\n",
       "      <td>1.265211</td>\n",
       "      <td>1.166449</td>\n",
       "      <td>1.798229</td>\n",
       "      <td>1.830359</td>\n",
       "      <td>1.884418</td>\n",
       "      <td>1.755742</td>\n",
       "      <td>2.882717</td>\n",
       "      <td>5.482694</td>\n",
       "      <td>7.594638</td>\n",
       "    </tr>\n",
       "    <tr>\n",
       "      <th>Horror</th>\n",
       "      <td>2.610362</td>\n",
       "      <td>0.249542</td>\n",
       "      <td>NaN</td>\n",
       "      <td>1.139321</td>\n",
       "      <td>NaN</td>\n",
       "      <td>NaN</td>\n",
       "      <td>NaN</td>\n",
       "      <td>NaN</td>\n",
       "      <td>0.724527</td>\n",
       "      <td>NaN</td>\n",
       "      <td>...</td>\n",
       "      <td>0.686208</td>\n",
       "      <td>1.012025</td>\n",
       "      <td>0.555925</td>\n",
       "      <td>0.892816</td>\n",
       "      <td>0.716326</td>\n",
       "      <td>0.839402</td>\n",
       "      <td>1.086958</td>\n",
       "      <td>1.298901</td>\n",
       "      <td>1.231575</td>\n",
       "      <td>1.505638</td>\n",
       "    </tr>\n",
       "    <tr>\n",
       "      <th>Family</th>\n",
       "      <td>NaN</td>\n",
       "      <td>1.467885</td>\n",
       "      <td>NaN</td>\n",
       "      <td>NaN</td>\n",
       "      <td>1.310850</td>\n",
       "      <td>1.313676</td>\n",
       "      <td>NaN</td>\n",
       "      <td>1.395994</td>\n",
       "      <td>0.633129</td>\n",
       "      <td>NaN</td>\n",
       "      <td>...</td>\n",
       "      <td>1.258872</td>\n",
       "      <td>1.650521</td>\n",
       "      <td>1.407257</td>\n",
       "      <td>1.568001</td>\n",
       "      <td>1.808135</td>\n",
       "      <td>1.377305</td>\n",
       "      <td>1.609679</td>\n",
       "      <td>1.543713</td>\n",
       "      <td>2.394299</td>\n",
       "      <td>3.373933</td>\n",
       "    </tr>\n",
       "    <tr>\n",
       "      <th>Fantasy</th>\n",
       "      <td>NaN</td>\n",
       "      <td>NaN</td>\n",
       "      <td>NaN</td>\n",
       "      <td>NaN</td>\n",
       "      <td>1.987819</td>\n",
       "      <td>NaN</td>\n",
       "      <td>NaN</td>\n",
       "      <td>0.241283</td>\n",
       "      <td>NaN</td>\n",
       "      <td>NaN</td>\n",
       "      <td>...</td>\n",
       "      <td>1.484023</td>\n",
       "      <td>1.759555</td>\n",
       "      <td>1.449221</td>\n",
       "      <td>1.969829</td>\n",
       "      <td>1.750629</td>\n",
       "      <td>1.977175</td>\n",
       "      <td>2.522171</td>\n",
       "      <td>2.014756</td>\n",
       "      <td>3.941149</td>\n",
       "      <td>3.326239</td>\n",
       "    </tr>\n",
       "    <tr>\n",
       "      <th>Mystery</th>\n",
       "      <td>NaN</td>\n",
       "      <td>NaN</td>\n",
       "      <td>NaN</td>\n",
       "      <td>0.920094</td>\n",
       "      <td>0.663446</td>\n",
       "      <td>NaN</td>\n",
       "      <td>0.402730</td>\n",
       "      <td>0.428652</td>\n",
       "      <td>1.728887</td>\n",
       "      <td>NaN</td>\n",
       "      <td>...</td>\n",
       "      <td>1.194338</td>\n",
       "      <td>1.456340</td>\n",
       "      <td>0.894572</td>\n",
       "      <td>1.011998</td>\n",
       "      <td>1.801882</td>\n",
       "      <td>1.466972</td>\n",
       "      <td>1.340954</td>\n",
       "      <td>1.431421</td>\n",
       "      <td>2.781021</td>\n",
       "      <td>2.668201</td>\n",
       "    </tr>\n",
       "    <tr>\n",
       "      <th>Animation</th>\n",
       "      <td>NaN</td>\n",
       "      <td>2.631987</td>\n",
       "      <td>NaN</td>\n",
       "      <td>NaN</td>\n",
       "      <td>NaN</td>\n",
       "      <td>NaN</td>\n",
       "      <td>NaN</td>\n",
       "      <td>2.550704</td>\n",
       "      <td>NaN</td>\n",
       "      <td>NaN</td>\n",
       "      <td>...</td>\n",
       "      <td>1.537277</td>\n",
       "      <td>1.510531</td>\n",
       "      <td>1.507001</td>\n",
       "      <td>2.011494</td>\n",
       "      <td>1.850297</td>\n",
       "      <td>1.354252</td>\n",
       "      <td>1.697879</td>\n",
       "      <td>1.700974</td>\n",
       "      <td>2.717311</td>\n",
       "      <td>3.169796</td>\n",
       "    </tr>\n",
       "    <tr>\n",
       "      <th>Music</th>\n",
       "      <td>NaN</td>\n",
       "      <td>0.900245</td>\n",
       "      <td>NaN</td>\n",
       "      <td>NaN</td>\n",
       "      <td>1.144632</td>\n",
       "      <td>1.313676</td>\n",
       "      <td>NaN</td>\n",
       "      <td>0.227287</td>\n",
       "      <td>0.633129</td>\n",
       "      <td>NaN</td>\n",
       "      <td>...</td>\n",
       "      <td>1.506462</td>\n",
       "      <td>0.873012</td>\n",
       "      <td>1.042831</td>\n",
       "      <td>0.930470</td>\n",
       "      <td>1.146440</td>\n",
       "      <td>0.613634</td>\n",
       "      <td>1.080821</td>\n",
       "      <td>0.770863</td>\n",
       "      <td>2.493149</td>\n",
       "      <td>1.391390</td>\n",
       "    </tr>\n",
       "    <tr>\n",
       "      <th>History</th>\n",
       "      <td>1.136943</td>\n",
       "      <td>0.538364</td>\n",
       "      <td>1.168767</td>\n",
       "      <td>0.558673</td>\n",
       "      <td>NaN</td>\n",
       "      <td>0.146033</td>\n",
       "      <td>NaN</td>\n",
       "      <td>NaN</td>\n",
       "      <td>0.569422</td>\n",
       "      <td>1.357317</td>\n",
       "      <td>...</td>\n",
       "      <td>0.685986</td>\n",
       "      <td>0.773701</td>\n",
       "      <td>0.675617</td>\n",
       "      <td>0.784457</td>\n",
       "      <td>0.967857</td>\n",
       "      <td>0.407756</td>\n",
       "      <td>1.090733</td>\n",
       "      <td>1.207606</td>\n",
       "      <td>3.321015</td>\n",
       "      <td>2.258394</td>\n",
       "    </tr>\n",
       "    <tr>\n",
       "      <th>War</th>\n",
       "      <td>NaN</td>\n",
       "      <td>0.754548</td>\n",
       "      <td>1.168767</td>\n",
       "      <td>0.664326</td>\n",
       "      <td>2.210475</td>\n",
       "      <td>1.282053</td>\n",
       "      <td>0.299911</td>\n",
       "      <td>0.485288</td>\n",
       "      <td>0.474040</td>\n",
       "      <td>NaN</td>\n",
       "      <td>...</td>\n",
       "      <td>0.580310</td>\n",
       "      <td>1.041253</td>\n",
       "      <td>0.924554</td>\n",
       "      <td>2.711016</td>\n",
       "      <td>1.784073</td>\n",
       "      <td>0.731571</td>\n",
       "      <td>0.946608</td>\n",
       "      <td>0.915879</td>\n",
       "      <td>3.319962</td>\n",
       "      <td>1.943238</td>\n",
       "    </tr>\n",
       "    <tr>\n",
       "      <th>Western</th>\n",
       "      <td>1.872132</td>\n",
       "      <td>0.173731</td>\n",
       "      <td>0.516593</td>\n",
       "      <td>NaN</td>\n",
       "      <td>NaN</td>\n",
       "      <td>NaN</td>\n",
       "      <td>0.395668</td>\n",
       "      <td>NaN</td>\n",
       "      <td>0.621202</td>\n",
       "      <td>0.986603</td>\n",
       "      <td>...</td>\n",
       "      <td>0.463068</td>\n",
       "      <td>0.902068</td>\n",
       "      <td>0.646244</td>\n",
       "      <td>NaN</td>\n",
       "      <td>1.124787</td>\n",
       "      <td>1.569683</td>\n",
       "      <td>5.944518</td>\n",
       "      <td>0.801051</td>\n",
       "      <td>0.870104</td>\n",
       "      <td>7.504550</td>\n",
       "    </tr>\n",
       "    <tr>\n",
       "      <th>Documentary</th>\n",
       "      <td>NaN</td>\n",
       "      <td>NaN</td>\n",
       "      <td>NaN</td>\n",
       "      <td>NaN</td>\n",
       "      <td>NaN</td>\n",
       "      <td>NaN</td>\n",
       "      <td>NaN</td>\n",
       "      <td>NaN</td>\n",
       "      <td>NaN</td>\n",
       "      <td>NaN</td>\n",
       "      <td>...</td>\n",
       "      <td>0.345180</td>\n",
       "      <td>0.329187</td>\n",
       "      <td>0.021371</td>\n",
       "      <td>0.576401</td>\n",
       "      <td>0.460387</td>\n",
       "      <td>0.259605</td>\n",
       "      <td>0.050524</td>\n",
       "      <td>NaN</td>\n",
       "      <td>NaN</td>\n",
       "      <td>NaN</td>\n",
       "    </tr>\n",
       "    <tr>\n",
       "      <th>Foreign</th>\n",
       "      <td>NaN</td>\n",
       "      <td>NaN</td>\n",
       "      <td>NaN</td>\n",
       "      <td>NaN</td>\n",
       "      <td>NaN</td>\n",
       "      <td>NaN</td>\n",
       "      <td>NaN</td>\n",
       "      <td>NaN</td>\n",
       "      <td>NaN</td>\n",
       "      <td>NaN</td>\n",
       "      <td>...</td>\n",
       "      <td>NaN</td>\n",
       "      <td>NaN</td>\n",
       "      <td>0.389554</td>\n",
       "      <td>NaN</td>\n",
       "      <td>0.122365</td>\n",
       "      <td>NaN</td>\n",
       "      <td>NaN</td>\n",
       "      <td>NaN</td>\n",
       "      <td>NaN</td>\n",
       "      <td>NaN</td>\n",
       "    </tr>\n",
       "    <tr>\n",
       "      <th>TV Movie</th>\n",
       "      <td>NaN</td>\n",
       "      <td>NaN</td>\n",
       "      <td>NaN</td>\n",
       "      <td>NaN</td>\n",
       "      <td>NaN</td>\n",
       "      <td>NaN</td>\n",
       "      <td>NaN</td>\n",
       "      <td>NaN</td>\n",
       "      <td>NaN</td>\n",
       "      <td>NaN</td>\n",
       "      <td>...</td>\n",
       "      <td>NaN</td>\n",
       "      <td>NaN</td>\n",
       "      <td>NaN</td>\n",
       "      <td>NaN</td>\n",
       "      <td>NaN</td>\n",
       "      <td>NaN</td>\n",
       "      <td>NaN</td>\n",
       "      <td>NaN</td>\n",
       "      <td>NaN</td>\n",
       "      <td>NaN</td>\n",
       "    </tr>\n",
       "  </tbody>\n",
       "</table>\n",
       "<p>20 rows × 56 columns</p>\n",
       "</div>"
      ],
      "text/plain": [
       "                     1960      1961      1962      1963      1964      1965  \\\n",
       "Drama            1.564871  0.753022  0.641333  0.558673  0.922681  0.913921   \n",
       "Comedy           0.501564  1.244521       NaN  0.920094  1.670163  0.622157   \n",
       "Thriller         2.610362       NaN  3.170651  1.364218  1.908618  1.910465   \n",
       "Action           1.504538  0.464139  1.848380  1.357698  3.153791  1.266311   \n",
       "Adventure        1.872132  1.693268  1.621842  1.586280  3.153791  1.266311   \n",
       "Romance          0.501564  1.752027       NaN  0.862313  0.408402  1.297865   \n",
       "Crime                 NaN  0.900245  0.810805       NaN  0.663446       NaN   \n",
       "Science Fiction       NaN       NaN       NaN       NaN       NaN       NaN   \n",
       "Horror           2.610362  0.249542       NaN  1.139321       NaN       NaN   \n",
       "Family                NaN  1.467885       NaN       NaN  1.310850  1.313676   \n",
       "Fantasy               NaN       NaN       NaN       NaN  1.987819       NaN   \n",
       "Mystery               NaN       NaN       NaN  0.920094  0.663446       NaN   \n",
       "Animation             NaN  2.631987       NaN       NaN       NaN       NaN   \n",
       "Music                 NaN  0.900245       NaN       NaN  1.144632  1.313676   \n",
       "History          1.136943  0.538364  1.168767  0.558673       NaN  0.146033   \n",
       "War                   NaN  0.754548  1.168767  0.664326  2.210475  1.282053   \n",
       "Western          1.872132  0.173731  0.516593       NaN       NaN       NaN   \n",
       "Documentary           NaN       NaN       NaN       NaN       NaN       NaN   \n",
       "Foreign               NaN       NaN       NaN       NaN       NaN       NaN   \n",
       "TV Movie              NaN       NaN       NaN       NaN       NaN       NaN   \n",
       "\n",
       "                     1966      1967      1968      1969  ...      2006  \\\n",
       "Drama            0.485092  0.782614  0.522972  1.108561  ...  0.825979   \n",
       "Comedy                NaN  0.976019       NaN       NaN  ...  0.973170   \n",
       "Thriller         0.402730  0.856507  0.786854  1.778746  ...  1.099332   \n",
       "Action           0.347789  1.338467  0.678138  1.778746  ...  1.189849   \n",
       "Adventure        0.253584  1.361477  1.677185  1.197318  ...  1.279105   \n",
       "Romance          0.299911  0.719199  0.045242       NaN  ...  1.033224   \n",
       "Crime                 NaN  0.678960  0.786854  1.357317  ...  0.945301   \n",
       "Science Fiction  0.207257       NaN  1.502458       NaN  ...  1.298784   \n",
       "Horror                NaN       NaN  0.724527       NaN  ...  0.686208   \n",
       "Family                NaN  1.395994  0.633129       NaN  ...  1.258872   \n",
       "Fantasy               NaN  0.241283       NaN       NaN  ...  1.484023   \n",
       "Mystery          0.402730  0.428652  1.728887       NaN  ...  1.194338   \n",
       "Animation             NaN  2.550704       NaN       NaN  ...  1.537277   \n",
       "Music                 NaN  0.227287  0.633129       NaN  ...  1.506462   \n",
       "History               NaN       NaN  0.569422  1.357317  ...  0.685986   \n",
       "War              0.299911  0.485288  0.474040       NaN  ...  0.580310   \n",
       "Western          0.395668       NaN  0.621202  0.986603  ...  0.463068   \n",
       "Documentary           NaN       NaN       NaN       NaN  ...  0.345180   \n",
       "Foreign               NaN       NaN       NaN       NaN  ...       NaN   \n",
       "TV Movie              NaN       NaN       NaN       NaN  ...       NaN   \n",
       "\n",
       "                     2007      2008      2009      2010      2011      2012  \\\n",
       "Drama            0.908422  0.938528  0.978968  0.905732  0.950172  1.321512   \n",
       "Comedy           0.895763  0.909829  1.057598  0.918512  1.125697  1.201343   \n",
       "Thriller         1.197928  1.221734  1.229228  1.321211  1.344428  1.330660   \n",
       "Action           1.270305  1.445200  1.769773  1.553890  1.588119  2.122119   \n",
       "Adventure        1.573169  1.386773  1.942461  2.179113  1.861790  2.517433   \n",
       "Romance          0.816563  1.097606  0.943594  1.021499  1.116229  1.169046   \n",
       "Crime            0.891323  1.354948  0.738147  0.983650  1.385933  1.406413   \n",
       "Science Fiction  1.265211  1.166449  1.798229  1.830359  1.884418  1.755742   \n",
       "Horror           1.012025  0.555925  0.892816  0.716326  0.839402  1.086958   \n",
       "Family           1.650521  1.407257  1.568001  1.808135  1.377305  1.609679   \n",
       "Fantasy          1.759555  1.449221  1.969829  1.750629  1.977175  2.522171   \n",
       "Mystery          1.456340  0.894572  1.011998  1.801882  1.466972  1.340954   \n",
       "Animation        1.510531  1.507001  2.011494  1.850297  1.354252  1.697879   \n",
       "Music            0.873012  1.042831  0.930470  1.146440  0.613634  1.080821   \n",
       "History          0.773701  0.675617  0.784457  0.967857  0.407756  1.090733   \n",
       "War              1.041253  0.924554  2.711016  1.784073  0.731571  0.946608   \n",
       "Western          0.902068  0.646244       NaN  1.124787  1.569683  5.944518   \n",
       "Documentary      0.329187  0.021371  0.576401  0.460387  0.259605  0.050524   \n",
       "Foreign               NaN  0.389554       NaN  0.122365       NaN       NaN   \n",
       "TV Movie              NaN       NaN       NaN       NaN       NaN       NaN   \n",
       "\n",
       "                     2013      2014      2015  \n",
       "Drama            1.219134  2.079150  2.041339  \n",
       "Comedy           1.275141  2.213240  2.112686  \n",
       "Thriller         1.477090  2.848566  3.913396  \n",
       "Action           1.902791  4.005362  5.412644  \n",
       "Adventure        2.239812  5.115215  5.864179  \n",
       "Romance          1.176037  1.446583  2.108030  \n",
       "Crime            1.409273  2.026763  2.901992  \n",
       "Science Fiction  2.882717  5.482694  7.594638  \n",
       "Horror           1.298901  1.231575  1.505638  \n",
       "Family           1.543713  2.394299  3.373933  \n",
       "Fantasy          2.014756  3.941149  3.326239  \n",
       "Mystery          1.431421  2.781021  2.668201  \n",
       "Animation        1.700974  2.717311  3.169796  \n",
       "Music            0.770863  2.493149  1.391390  \n",
       "History          1.207606  3.321015  2.258394  \n",
       "War              0.915879  3.319962  1.943238  \n",
       "Western          0.801051  0.870104  7.504550  \n",
       "Documentary           NaN       NaN       NaN  \n",
       "Foreign               NaN       NaN       NaN  \n",
       "TV Movie              NaN       NaN       NaN  \n",
       "\n",
       "[20 rows x 56 columns]"
      ]
     },
     "execution_count": 45,
     "metadata": {},
     "output_type": "execute_result"
    }
   ],
   "source": [
    "# Check the dataframe\n",
    "df_reverse"
   ]
  },
  {
   "cell_type": "markdown",
   "metadata": {},
   "source": [
    "> Findings: This dataframe gives the result of average popularity of each genre for each year. There are NaN values. I am going to pick the highest value for each year, which gives me the most popular genre for that year."
   ]
  },
  {
   "cell_type": "code",
   "execution_count": 46,
   "metadata": {},
   "outputs": [],
   "source": [
    "# Combine the dataframe with the maximum popularity value for each year, and indexing with the matching genre name.\n",
    "year_popularity2 = pd.concat([df_reverse.idxmax(),df_reverse.max()],axis = 1)"
   ]
  },
  {
   "cell_type": "code",
   "execution_count": 47,
   "metadata": {},
   "outputs": [],
   "source": [
    "# Rename the dataframe with column name genre, maximum_average_popularity\n",
    "year_popularity2.columns = ['genre','maximum_average_popularity']\n",
    "year_popularity2.index.name = 'Year'"
   ]
  },
  {
   "cell_type": "code",
   "execution_count": 48,
   "metadata": {},
   "outputs": [
    {
     "data": {
      "text/html": [
       "<div>\n",
       "<style scoped>\n",
       "    .dataframe tbody tr th:only-of-type {\n",
       "        vertical-align: middle;\n",
       "    }\n",
       "\n",
       "    .dataframe tbody tr th {\n",
       "        vertical-align: top;\n",
       "    }\n",
       "\n",
       "    .dataframe thead th {\n",
       "        text-align: right;\n",
       "    }\n",
       "</style>\n",
       "<table border=\"1\" class=\"dataframe\">\n",
       "  <thead>\n",
       "    <tr style=\"text-align: right;\">\n",
       "      <th></th>\n",
       "      <th>genre</th>\n",
       "      <th>maximum_average_popularity</th>\n",
       "    </tr>\n",
       "    <tr>\n",
       "      <th>Year</th>\n",
       "      <th></th>\n",
       "      <th></th>\n",
       "    </tr>\n",
       "  </thead>\n",
       "  <tbody>\n",
       "    <tr>\n",
       "      <th>1960</th>\n",
       "      <td>Thriller</td>\n",
       "      <td>2.610362</td>\n",
       "    </tr>\n",
       "    <tr>\n",
       "      <th>1961</th>\n",
       "      <td>Animation</td>\n",
       "      <td>2.631987</td>\n",
       "    </tr>\n",
       "    <tr>\n",
       "      <th>1962</th>\n",
       "      <td>Thriller</td>\n",
       "      <td>3.170651</td>\n",
       "    </tr>\n",
       "    <tr>\n",
       "      <th>1963</th>\n",
       "      <td>Adventure</td>\n",
       "      <td>1.586280</td>\n",
       "    </tr>\n",
       "    <tr>\n",
       "      <th>1964</th>\n",
       "      <td>Action</td>\n",
       "      <td>3.153791</td>\n",
       "    </tr>\n",
       "    <tr>\n",
       "      <th>1965</th>\n",
       "      <td>Thriller</td>\n",
       "      <td>1.910465</td>\n",
       "    </tr>\n",
       "    <tr>\n",
       "      <th>1966</th>\n",
       "      <td>Drama</td>\n",
       "      <td>0.485092</td>\n",
       "    </tr>\n",
       "    <tr>\n",
       "      <th>1967</th>\n",
       "      <td>Animation</td>\n",
       "      <td>2.550704</td>\n",
       "    </tr>\n",
       "    <tr>\n",
       "      <th>1968</th>\n",
       "      <td>Mystery</td>\n",
       "      <td>1.728887</td>\n",
       "    </tr>\n",
       "    <tr>\n",
       "      <th>1969</th>\n",
       "      <td>Thriller</td>\n",
       "      <td>1.778746</td>\n",
       "    </tr>\n",
       "    <tr>\n",
       "      <th>1970</th>\n",
       "      <td>Family</td>\n",
       "      <td>1.936962</td>\n",
       "    </tr>\n",
       "    <tr>\n",
       "      <th>1971</th>\n",
       "      <td>Family</td>\n",
       "      <td>2.430667</td>\n",
       "    </tr>\n",
       "    <tr>\n",
       "      <th>1972</th>\n",
       "      <td>Drama</td>\n",
       "      <td>2.428841</td>\n",
       "    </tr>\n",
       "    <tr>\n",
       "      <th>1973</th>\n",
       "      <td>Family</td>\n",
       "      <td>2.272486</td>\n",
       "    </tr>\n",
       "    <tr>\n",
       "      <th>1974</th>\n",
       "      <td>Crime</td>\n",
       "      <td>1.298649</td>\n",
       "    </tr>\n",
       "    <tr>\n",
       "      <th>1975</th>\n",
       "      <td>Adventure</td>\n",
       "      <td>2.399072</td>\n",
       "    </tr>\n",
       "    <tr>\n",
       "      <th>1976</th>\n",
       "      <td>Crime</td>\n",
       "      <td>1.301804</td>\n",
       "    </tr>\n",
       "    <tr>\n",
       "      <th>1977</th>\n",
       "      <td>Action</td>\n",
       "      <td>2.709534</td>\n",
       "    </tr>\n",
       "    <tr>\n",
       "      <th>1978</th>\n",
       "      <td>Music</td>\n",
       "      <td>0.987694</td>\n",
       "    </tr>\n",
       "    <tr>\n",
       "      <th>1979</th>\n",
       "      <td>Horror</td>\n",
       "      <td>2.865282</td>\n",
       "    </tr>\n",
       "    <tr>\n",
       "      <th>1980</th>\n",
       "      <td>Adventure</td>\n",
       "      <td>2.722343</td>\n",
       "    </tr>\n",
       "    <tr>\n",
       "      <th>1981</th>\n",
       "      <td>Adventure</td>\n",
       "      <td>1.582705</td>\n",
       "    </tr>\n",
       "    <tr>\n",
       "      <th>1982</th>\n",
       "      <td>Science Fiction</td>\n",
       "      <td>1.815975</td>\n",
       "    </tr>\n",
       "    <tr>\n",
       "      <th>1983</th>\n",
       "      <td>Adventure</td>\n",
       "      <td>1.548183</td>\n",
       "    </tr>\n",
       "    <tr>\n",
       "      <th>1984</th>\n",
       "      <td>Family</td>\n",
       "      <td>1.819898</td>\n",
       "    </tr>\n",
       "    <tr>\n",
       "      <th>1985</th>\n",
       "      <td>Family</td>\n",
       "      <td>1.526121</td>\n",
       "    </tr>\n",
       "    <tr>\n",
       "      <th>1986</th>\n",
       "      <td>Animation</td>\n",
       "      <td>1.136303</td>\n",
       "    </tr>\n",
       "    <tr>\n",
       "      <th>1987</th>\n",
       "      <td>War</td>\n",
       "      <td>1.518906</td>\n",
       "    </tr>\n",
       "    <tr>\n",
       "      <th>1988</th>\n",
       "      <td>Animation</td>\n",
       "      <td>1.108351</td>\n",
       "    </tr>\n",
       "    <tr>\n",
       "      <th>1989</th>\n",
       "      <td>Animation</td>\n",
       "      <td>2.305242</td>\n",
       "    </tr>\n",
       "    <tr>\n",
       "      <th>1990</th>\n",
       "      <td>Western</td>\n",
       "      <td>1.695911</td>\n",
       "    </tr>\n",
       "    <tr>\n",
       "      <th>1991</th>\n",
       "      <td>Animation</td>\n",
       "      <td>2.148455</td>\n",
       "    </tr>\n",
       "    <tr>\n",
       "      <th>1992</th>\n",
       "      <td>Animation</td>\n",
       "      <td>3.966538</td>\n",
       "    </tr>\n",
       "    <tr>\n",
       "      <th>1993</th>\n",
       "      <td>War</td>\n",
       "      <td>1.625452</td>\n",
       "    </tr>\n",
       "    <tr>\n",
       "      <th>1994</th>\n",
       "      <td>Crime</td>\n",
       "      <td>2.017196</td>\n",
       "    </tr>\n",
       "    <tr>\n",
       "      <th>1995</th>\n",
       "      <td>Animation</td>\n",
       "      <td>3.097868</td>\n",
       "    </tr>\n",
       "    <tr>\n",
       "      <th>1996</th>\n",
       "      <td>Animation</td>\n",
       "      <td>1.329906</td>\n",
       "    </tr>\n",
       "    <tr>\n",
       "      <th>1997</th>\n",
       "      <td>Animation</td>\n",
       "      <td>1.947888</td>\n",
       "    </tr>\n",
       "    <tr>\n",
       "      <th>1998</th>\n",
       "      <td>Animation</td>\n",
       "      <td>2.109820</td>\n",
       "    </tr>\n",
       "    <tr>\n",
       "      <th>1999</th>\n",
       "      <td>Fantasy</td>\n",
       "      <td>1.372226</td>\n",
       "    </tr>\n",
       "    <tr>\n",
       "      <th>2000</th>\n",
       "      <td>Fantasy</td>\n",
       "      <td>1.182193</td>\n",
       "    </tr>\n",
       "    <tr>\n",
       "      <th>2001</th>\n",
       "      <td>Fantasy</td>\n",
       "      <td>2.902771</td>\n",
       "    </tr>\n",
       "    <tr>\n",
       "      <th>2002</th>\n",
       "      <td>Fantasy</td>\n",
       "      <td>2.597838</td>\n",
       "    </tr>\n",
       "    <tr>\n",
       "      <th>2003</th>\n",
       "      <td>Fantasy</td>\n",
       "      <td>2.909258</td>\n",
       "    </tr>\n",
       "    <tr>\n",
       "      <th>2004</th>\n",
       "      <td>Fantasy</td>\n",
       "      <td>2.064655</td>\n",
       "    </tr>\n",
       "    <tr>\n",
       "      <th>2005</th>\n",
       "      <td>Fantasy</td>\n",
       "      <td>1.747583</td>\n",
       "    </tr>\n",
       "    <tr>\n",
       "      <th>2006</th>\n",
       "      <td>Animation</td>\n",
       "      <td>1.537277</td>\n",
       "    </tr>\n",
       "    <tr>\n",
       "      <th>2007</th>\n",
       "      <td>Fantasy</td>\n",
       "      <td>1.759555</td>\n",
       "    </tr>\n",
       "    <tr>\n",
       "      <th>2008</th>\n",
       "      <td>Animation</td>\n",
       "      <td>1.507001</td>\n",
       "    </tr>\n",
       "    <tr>\n",
       "      <th>2009</th>\n",
       "      <td>War</td>\n",
       "      <td>2.711016</td>\n",
       "    </tr>\n",
       "    <tr>\n",
       "      <th>2010</th>\n",
       "      <td>Adventure</td>\n",
       "      <td>2.179113</td>\n",
       "    </tr>\n",
       "    <tr>\n",
       "      <th>2011</th>\n",
       "      <td>Fantasy</td>\n",
       "      <td>1.977175</td>\n",
       "    </tr>\n",
       "    <tr>\n",
       "      <th>2012</th>\n",
       "      <td>Western</td>\n",
       "      <td>5.944518</td>\n",
       "    </tr>\n",
       "    <tr>\n",
       "      <th>2013</th>\n",
       "      <td>Science Fiction</td>\n",
       "      <td>2.882717</td>\n",
       "    </tr>\n",
       "    <tr>\n",
       "      <th>2014</th>\n",
       "      <td>Science Fiction</td>\n",
       "      <td>5.482694</td>\n",
       "    </tr>\n",
       "    <tr>\n",
       "      <th>2015</th>\n",
       "      <td>Science Fiction</td>\n",
       "      <td>7.594638</td>\n",
       "    </tr>\n",
       "  </tbody>\n",
       "</table>\n",
       "</div>"
      ],
      "text/plain": [
       "                genre  maximum_average_popularity\n",
       "Year                                             \n",
       "1960         Thriller                    2.610362\n",
       "1961        Animation                    2.631987\n",
       "1962         Thriller                    3.170651\n",
       "1963        Adventure                    1.586280\n",
       "1964           Action                    3.153791\n",
       "1965         Thriller                    1.910465\n",
       "1966            Drama                    0.485092\n",
       "1967        Animation                    2.550704\n",
       "1968          Mystery                    1.728887\n",
       "1969         Thriller                    1.778746\n",
       "1970           Family                    1.936962\n",
       "1971           Family                    2.430667\n",
       "1972            Drama                    2.428841\n",
       "1973           Family                    2.272486\n",
       "1974            Crime                    1.298649\n",
       "1975        Adventure                    2.399072\n",
       "1976            Crime                    1.301804\n",
       "1977           Action                    2.709534\n",
       "1978            Music                    0.987694\n",
       "1979           Horror                    2.865282\n",
       "1980        Adventure                    2.722343\n",
       "1981        Adventure                    1.582705\n",
       "1982  Science Fiction                    1.815975\n",
       "1983        Adventure                    1.548183\n",
       "1984           Family                    1.819898\n",
       "1985           Family                    1.526121\n",
       "1986        Animation                    1.136303\n",
       "1987              War                    1.518906\n",
       "1988        Animation                    1.108351\n",
       "1989        Animation                    2.305242\n",
       "1990          Western                    1.695911\n",
       "1991        Animation                    2.148455\n",
       "1992        Animation                    3.966538\n",
       "1993              War                    1.625452\n",
       "1994            Crime                    2.017196\n",
       "1995        Animation                    3.097868\n",
       "1996        Animation                    1.329906\n",
       "1997        Animation                    1.947888\n",
       "1998        Animation                    2.109820\n",
       "1999          Fantasy                    1.372226\n",
       "2000          Fantasy                    1.182193\n",
       "2001          Fantasy                    2.902771\n",
       "2002          Fantasy                    2.597838\n",
       "2003          Fantasy                    2.909258\n",
       "2004          Fantasy                    2.064655\n",
       "2005          Fantasy                    1.747583\n",
       "2006        Animation                    1.537277\n",
       "2007          Fantasy                    1.759555\n",
       "2008        Animation                    1.507001\n",
       "2009              War                    2.711016\n",
       "2010        Adventure                    2.179113\n",
       "2011          Fantasy                    1.977175\n",
       "2012          Western                    5.944518\n",
       "2013  Science Fiction                    2.882717\n",
       "2014  Science Fiction                    5.482694\n",
       "2015  Science Fiction                    7.594638"
      ]
     },
     "execution_count": 48,
     "metadata": {},
     "output_type": "execute_result"
    }
   ],
   "source": [
    "# Take a look at the dataframe\n",
    "year_popularity2"
   ]
  },
  {
   "cell_type": "markdown",
   "metadata": {},
   "source": [
    "> Findings: This dataframe has the highest average popularity value with matching genre by year 1960 to 2015. We could definitely use a plot to visualize the result but it would be too long to be clear. I want to pick the recent ten years' data (2005-2015) for the final plot."
   ]
  },
  {
   "cell_type": "markdown",
   "metadata": {},
   "source": [
    "> **Plot the recent 10 years of most popular genre.**"
   ]
  },
  {
   "cell_type": "code",
   "execution_count": 49,
   "metadata": {},
   "outputs": [],
   "source": [
    "# Cut the dataframe with last ten rows of data.\n",
    "plot2 = year_popularity2.iloc[45:,:]"
   ]
  },
  {
   "cell_type": "code",
   "execution_count": 50,
   "metadata": {},
   "outputs": [
    {
     "data": {
      "text/html": [
       "<div>\n",
       "<style scoped>\n",
       "    .dataframe tbody tr th:only-of-type {\n",
       "        vertical-align: middle;\n",
       "    }\n",
       "\n",
       "    .dataframe tbody tr th {\n",
       "        vertical-align: top;\n",
       "    }\n",
       "\n",
       "    .dataframe thead th {\n",
       "        text-align: right;\n",
       "    }\n",
       "</style>\n",
       "<table border=\"1\" class=\"dataframe\">\n",
       "  <thead>\n",
       "    <tr style=\"text-align: right;\">\n",
       "      <th></th>\n",
       "      <th>genre</th>\n",
       "      <th>maximum_average_popularity</th>\n",
       "    </tr>\n",
       "    <tr>\n",
       "      <th>Year</th>\n",
       "      <th></th>\n",
       "      <th></th>\n",
       "    </tr>\n",
       "  </thead>\n",
       "  <tbody>\n",
       "    <tr>\n",
       "      <th>2005</th>\n",
       "      <td>Fantasy</td>\n",
       "      <td>1.747583</td>\n",
       "    </tr>\n",
       "    <tr>\n",
       "      <th>2006</th>\n",
       "      <td>Animation</td>\n",
       "      <td>1.537277</td>\n",
       "    </tr>\n",
       "    <tr>\n",
       "      <th>2007</th>\n",
       "      <td>Fantasy</td>\n",
       "      <td>1.759555</td>\n",
       "    </tr>\n",
       "    <tr>\n",
       "      <th>2008</th>\n",
       "      <td>Animation</td>\n",
       "      <td>1.507001</td>\n",
       "    </tr>\n",
       "    <tr>\n",
       "      <th>2009</th>\n",
       "      <td>War</td>\n",
       "      <td>2.711016</td>\n",
       "    </tr>\n",
       "    <tr>\n",
       "      <th>2010</th>\n",
       "      <td>Adventure</td>\n",
       "      <td>2.179113</td>\n",
       "    </tr>\n",
       "    <tr>\n",
       "      <th>2011</th>\n",
       "      <td>Fantasy</td>\n",
       "      <td>1.977175</td>\n",
       "    </tr>\n",
       "    <tr>\n",
       "      <th>2012</th>\n",
       "      <td>Western</td>\n",
       "      <td>5.944518</td>\n",
       "    </tr>\n",
       "    <tr>\n",
       "      <th>2013</th>\n",
       "      <td>Science Fiction</td>\n",
       "      <td>2.882717</td>\n",
       "    </tr>\n",
       "    <tr>\n",
       "      <th>2014</th>\n",
       "      <td>Science Fiction</td>\n",
       "      <td>5.482694</td>\n",
       "    </tr>\n",
       "    <tr>\n",
       "      <th>2015</th>\n",
       "      <td>Science Fiction</td>\n",
       "      <td>7.594638</td>\n",
       "    </tr>\n",
       "  </tbody>\n",
       "</table>\n",
       "</div>"
      ],
      "text/plain": [
       "                genre  maximum_average_popularity\n",
       "Year                                             \n",
       "2005          Fantasy                    1.747583\n",
       "2006        Animation                    1.537277\n",
       "2007          Fantasy                    1.759555\n",
       "2008        Animation                    1.507001\n",
       "2009              War                    2.711016\n",
       "2010        Adventure                    2.179113\n",
       "2011          Fantasy                    1.977175\n",
       "2012          Western                    5.944518\n",
       "2013  Science Fiction                    2.882717\n",
       "2014  Science Fiction                    5.482694\n",
       "2015  Science Fiction                    7.594638"
      ]
     },
     "execution_count": 50,
     "metadata": {},
     "output_type": "execute_result"
    }
   ],
   "source": [
    "# Check.\n",
    "plot2"
   ]
  },
  {
   "cell_type": "markdown",
   "metadata": {},
   "source": [
    "> Findings: Now we have the data for year 2005 - 2015. Let's get a bar chart for the comparison."
   ]
  },
  {
   "cell_type": "code",
   "execution_count": 51,
   "metadata": {},
   "outputs": [
    {
     "data": {
      "image/png": "[encoded data removed]",
      "text/plain": [
       "<Figure size 1080x360 with 1 Axes>"
      ]
     },
     "metadata": {},
     "output_type": "display_data"
    }
   ],
   "source": [
    "plt.style.use('ggplot')\n",
    "heights2 = plot2.maximum_average_popularity.values\n",
    "x_pos2 = np.arange(2005,2016,1)\n",
    "y = plot2.genre\n",
    "\n",
    "plt.subplots(figsize = (15,5))\n",
    "plt.bar(plot2.index,heights2,width = 0.6,alpha = 0.5,align = 'center')\n",
    "plt.xticks(plot2.index)\n",
    "plt.xlabel('The Most Popular Genre Each Year')\n",
    "plt.ylabel('Average Value of Popularity')\n",
    "plt.title('Popular Genre Year by Year ')\n",
    "\n",
    "value2 = np.round(heights2.astype(np.double),decimals = 4)\n",
    "for a,b,c in zip(x_pos2,value2,plot2.genre):\n",
    "    plt.text(a-0.3,b+0.1, c)\n",
    "\n",
    "plt.show()"
   ]
  },
  {
   "cell_type": "markdown",
   "metadata": {},
   "source": [
    "<a id='rev'></a>\n",
    "### Research Question 2: What kinds of properties associated with movie with high revenues. "
   ]
  },
  {
   "cell_type": "markdown",
   "metadata": {},
   "source": [
    "> **First, define the range of high revenue.**"
   ]
  },
  {
   "cell_type": "code",
   "execution_count": 52,
   "metadata": {},
   "outputs": [
    {
     "data": {
      "text/plain": [
       "count    3.805000e+03\n",
       "mean     1.089734e+08\n",
       "std      1.772976e+08\n",
       "min      2.000000e+00\n",
       "25%      1.433379e+07\n",
       "50%      4.621664e+07\n",
       "75%      1.260695e+08\n",
       "max      2.781506e+09\n",
       "Name: revenue, dtype: float64"
      ]
     },
     "execution_count": 52,
     "metadata": {},
     "output_type": "execute_result"
    }
   ],
   "source": [
    "# Get the statistics of revenue.\n",
    "df.revenue.describe()"
   ]
  },
  {
   "cell_type": "code",
   "execution_count": 53,
   "metadata": {},
   "outputs": [],
   "source": [
    "# Define high revenue with values above 75th percentile.\n",
    "df_highrevenue = df[df['revenue'] >= 1.260695e+08]"
   ]
  },
  {
   "cell_type": "markdown",
   "metadata": {},
   "source": [
    "> **Second, find rankings on genre, release year, production companies, casts, directors and popularity value asscoaited with high revenue.**"
   ]
  },
  {
   "cell_type": "code",
   "execution_count": 54,
   "metadata": {},
   "outputs": [],
   "source": [
    "# Find the average revenue for each genre. \n",
    "# Create a dataframe genre_revenue, and compute the average revenue for each genre.\n",
    "genre_revenue = list()\n",
    "\n",
    "for g in out_genre.index:\n",
    "    revenue = df_highrevenue[df_highrevenue['genre_name'].str.contains(g)].mean().revenue\n",
    "    genre_revenue.append(revenue)"
   ]
  },
  {
   "cell_type": "code",
   "execution_count": 55,
   "metadata": {},
   "outputs": [],
   "source": [
    "# Rename column and sort the values of average revenue for genres.\n",
    "plot3 = pd.DataFrame([out_genre.index,genre_revenue],index = ('genre','revenue')).transpose().sort_values(by = 'revenue',ascending=False)"
   ]
  },
  {
   "cell_type": "code",
   "execution_count": 56,
   "metadata": {},
   "outputs": [],
   "source": [
    "# Reset the index to genre .\n",
    "plot3.set_index(['genre'], inplace = True)"
   ]
  },
  {
   "cell_type": "code",
   "execution_count": 57,
   "metadata": {},
   "outputs": [
    {
     "data": {
      "text/plain": [
       "<matplotlib.axes._subplots.AxesSubplot at 0x1a23f4b3c8>"
      ]
     },
     "execution_count": 57,
     "metadata": {},
     "output_type": "execute_result"
    },
    {
     "data": {
      "image/png": "[encoded data removed]",
      "text/plain": [
       "<Figure size 1440x360 with 1 Axes>"
      ]
     },
     "metadata": {},
     "output_type": "display_data"
    }
   ],
   "source": [
    "# Plot the average revenue for each genres in descending order. \n",
    "plot3.plot(kind = 'bar',width = 0.2,figsize = (20,5)) "
   ]
  },
  {
   "cell_type": "code",
   "execution_count": 58,
   "metadata": {},
   "outputs": [
    {
     "data": {
      "text/plain": [
       "<matplotlib.axes._subplots.AxesSubplot at 0x1a2415e358>"
      ]
     },
     "execution_count": 58,
     "metadata": {},
     "output_type": "execute_result"
    },
    {
     "data": {
      "image/png": "[encoded data removed]",
      "text/plain": [
       "<Figure size 1440x360 with 1 Axes>"
      ]
     },
     "metadata": {},
     "output_type": "display_data"
    }
   ],
   "source": [
    "# Plot the years in order with numbers of movies with high revenue.\n",
    "df_highrevenue.release_year.value_counts().plot(kind = 'bar',width = 0.2,figsize = (20,5))"
   ]
  },
  {
   "cell_type": "markdown",
   "metadata": {},
   "source": [
    "> Findings: 2011 have over 60 movies that have high revenues, which is the most in the list of year. "
   ]
  },
  {
   "cell_type": "code",
   "execution_count": 59,
   "metadata": {},
   "outputs": [],
   "source": [
    "# Find the production companies that produce high revenue movies. \n",
    "high_production = df_highrevenue['production'].str.split(',', expand = True).stack().value_counts()"
   ]
  },
  {
   "cell_type": "code",
   "execution_count": 60,
   "metadata": {},
   "outputs": [
    {
     "data": {
      "text/plain": [
       "<matplotlib.axes._subplots.AxesSubplot at 0x1a23f51978>"
      ]
     },
     "execution_count": 60,
     "metadata": {},
     "output_type": "execute_result"
    },
    {
     "data": {
      "image/png": "[encoded data removed]",
      "text/plain": [
       "<Figure size 1080x360 with 1 Axes>"
      ]
     },
     "metadata": {},
     "output_type": "display_data"
    }
   ],
   "source": [
    "# Plot the top 20 production companies.\n",
    "high_production.iloc[:20].plot(kind ='bar',figsize = (15,5))"
   ]
  },
  {
   "cell_type": "markdown",
   "metadata": {},
   "source": [
    "> Findings: Universal pictures have over 120 movies that have high revenue. Followed by Warner Brothers, Paramount Pictures, Twentieth Century Fox Film Coorperation, Columbia Picture and Walt Disney Pictures. "
   ]
  },
  {
   "cell_type": "code",
   "execution_count": 61,
   "metadata": {},
   "outputs": [],
   "source": [
    "# Find the cast who play in the movies with high revenue. \n",
    "high_cast = df_highrevenue['cast_name'].str.split(',', expand = True).stack().value_counts()"
   ]
  },
  {
   "cell_type": "code",
   "execution_count": 62,
   "metadata": {},
   "outputs": [
    {
     "data": {
      "text/plain": [
       "<matplotlib.axes._subplots.AxesSubplot at 0x1a2367f470>"
      ]
     },
     "execution_count": 62,
     "metadata": {},
     "output_type": "execute_result"
    },
    {
     "data": {
      "image/png": "[encoded data removed]",
      "text/plain": [
       "<Figure size 1296x360 with 1 Axes>"
      ]
     },
     "metadata": {},
     "output_type": "display_data"
    }
   ],
   "source": [
    "# Plot the top 20 casts who play the most movies with high revenue.\n",
    "high_cast.iloc[:20].plot(kind = 'bar',figsize = (18,5))"
   ]
  },
  {
   "cell_type": "markdown",
   "metadata": {},
   "source": [
    "> Findings: Rober De Nitro played over 50 movies that have high revenue. Followed by Bruch Willis, Samual Jackson, Nicolas Cage, Matt Damon and Johnny Depp. "
   ]
  },
  {
   "cell_type": "code",
   "execution_count": 63,
   "metadata": {},
   "outputs": [
    {
     "data": {
      "text/plain": [
       "<matplotlib.axes._subplots.AxesSubplot at 0x1a23747278>"
      ]
     },
     "execution_count": 63,
     "metadata": {},
     "output_type": "execute_result"
    },
    {
     "data": {
      "image/png": "[encoded data removed]",
      "text/plain": [
       "<Figure size 1296x360 with 1 Axes>"
      ]
     },
     "metadata": {},
     "output_type": "display_data"
    }
   ],
   "source": [
    "# Find out the directors who direct the most movies with high revenue. Plot the top 20.\n",
    "high_director = df_highrevenue['director_name'].str.split(',', expand = True).stack().value_counts()\n",
    "high_director.iloc[:20].plot(kind = 'bar',figsize = (18,5))"
   ]
  },
  {
   "cell_type": "markdown",
   "metadata": {},
   "source": [
    "> Findings: Steven Spielberg directed over 25 movies that have high revenue, which is much more that the followed directors Robert Zemeckis. "
   ]
  },
  {
   "cell_type": "code",
   "execution_count": 64,
   "metadata": {
    "scrolled": true
   },
   "outputs": [
    {
     "data": {
      "text/plain": [
       "<matplotlib.axes._subplots.AxesSubplot at 0x1a235ed860>"
      ]
     },
     "execution_count": 64,
     "metadata": {},
     "output_type": "execute_result"
    },
    {
     "data": {
      "image/png": "[encoded data removed]",
      "text/plain": [
       "<Figure size 432x288 with 1 Axes>"
      ]
     },
     "metadata": {},
     "output_type": "display_data"
    }
   ],
   "source": [
    "# Find out the range of popularity of high revenue movies.\n",
    "df_highrevenue.popularity.hist()"
   ]
  },
  {
   "cell_type": "code",
   "execution_count": 65,
   "metadata": {
    "scrolled": true
   },
   "outputs": [
    {
     "data": {
      "text/plain": [
       "count    952.000000\n",
       "mean       2.334476\n",
       "std        2.332131\n",
       "min        0.131526\n",
       "25%        1.143910\n",
       "50%        1.731402\n",
       "75%        2.697235\n",
       "max       32.985763\n",
       "Name: popularity, dtype: float64"
      ]
     },
     "execution_count": 65,
     "metadata": {},
     "output_type": "execute_result"
    }
   ],
   "source": [
    "df_highrevenue.popularity.describe()"
   ]
  },
  {
   "cell_type": "markdown",
   "metadata": {},
   "source": [
    "> Findings: The mean popularity of high revenue movies are 2.3344. And it includes the movie with highest value of popularity, which is 32.986."
   ]
  },
  {
   "cell_type": "markdown",
   "metadata": {},
   "source": [
    "<a id='dir'></a>\n",
    "### Research Question 3: Who are the directors tend to direct movies with high ratings?\n",
    "\n",
    "> **Compute the average vote rating for each director.**"
   ]
  },
  {
   "cell_type": "code",
   "execution_count": 66,
   "metadata": {},
   "outputs": [
    {
     "data": {
      "text/plain": [
       "Steven Spielberg         28\n",
       "Clint Eastwood           24\n",
       "Ridley Scott             21\n",
       "Woody Allen              18\n",
       "Steven Soderbergh        17\n",
       "Robert Rodriguez         17\n",
       "Martin Scorsese          17\n",
       "Tim Burton               17\n",
       "Renny Harlin             15\n",
       "Oliver Stone             15\n",
       "Brian De Palma           15\n",
       "Robert Zemeckis          15\n",
       "Wes Craven               14\n",
       "Ron Howard               14\n",
       "Joel Schumacher          14\n",
       "Tony Scott               14\n",
       "Richard Donner           13\n",
       "Peter Farrelly           13\n",
       "Francis Ford Coppola     13\n",
       "Barry Levinson           12\n",
       "Joel Coen                12\n",
       "Rob Reiner               12\n",
       "Walter Hill              12\n",
       "Quentin Tarantino        12\n",
       "John Carpenter           12\n",
       "Michael Bay              11\n",
       "Bobby Farrelly           11\n",
       "John Landis              11\n",
       "Kevin Smith              11\n",
       "Peter Jackson            11\n",
       "                         ..\n",
       "Jennifer Flackett         1\n",
       "Dean Wright               1\n",
       "David Carson              1\n",
       "Christophe Gans           1\n",
       "Drew Barrymore            1\n",
       "Hugh Hudson               1\n",
       "Fred Savage               1\n",
       "Alan Mak                  1\n",
       "FranÃ§ois Girard          1\n",
       "Toby Wilkins              1\n",
       "Spencer Susser            1\n",
       "Dick Maas                 1\n",
       "Floria Sigismondi         1\n",
       "Vladimir Grammatikov      1\n",
       "Andrew Bergman            1\n",
       "Don Hahn                  1\n",
       "Gary David Goldberg       1\n",
       "Sam Miller                1\n",
       "Stewart Raffill           1\n",
       "Mark Levin                1\n",
       "Reggie Rock Bythewood     1\n",
       "David Hogan               1\n",
       "Rajkumar Hirani           1\n",
       "Zal Batmanglij            1\n",
       "Francis Glebas            1\n",
       "Howard McCain             1\n",
       "Marshall Brickman         1\n",
       "William Dear              1\n",
       "Susannah Grant            1\n",
       "Jennifer Kent             1\n",
       "Length: 1753, dtype: int64"
      ]
     },
     "execution_count": 66,
     "metadata": {},
     "output_type": "execute_result"
    }
   ],
   "source": [
    "# Find out the number of movies each director directed in the dataset.\n",
    "out_director = df['director_name'].str.split(',',expand = True).stack().value_counts()\n",
    "out_director"
   ]
  },
  {
   "cell_type": "code",
   "execution_count": 67,
   "metadata": {},
   "outputs": [],
   "source": [
    "# Create a datarame director_rating withe the ranking of average vote scores.\n",
    "director_rating = list()\n",
    "\n",
    "for d in out_director.index:\n",
    "    rating = df[df['director_name'].str.contains(d)].mean().vote_average\n",
    "    director_rating.append(rating)"
   ]
  },
  {
   "cell_type": "code",
   "execution_count": 68,
   "metadata": {},
   "outputs": [],
   "source": [
    "# Rename the column and re-order the rows with dscending values of average vote scores.\n",
    "plot4 = pd.DataFrame([out_director.index,director_rating],index = ('director','rating')).transpose().sort_values(by = 'rating',ascending = False)"
   ]
  },
  {
   "cell_type": "code",
   "execution_count": 69,
   "metadata": {},
   "outputs": [
    {
     "data": {
      "text/html": [
       "<div>\n",
       "<style scoped>\n",
       "    .dataframe tbody tr th:only-of-type {\n",
       "        vertical-align: middle;\n",
       "    }\n",
       "\n",
       "    .dataframe tbody tr th {\n",
       "        vertical-align: top;\n",
       "    }\n",
       "\n",
       "    .dataframe thead th {\n",
       "        text-align: right;\n",
       "    }\n",
       "</style>\n",
       "<table border=\"1\" class=\"dataframe\">\n",
       "  <thead>\n",
       "    <tr style=\"text-align: right;\">\n",
       "      <th></th>\n",
       "      <th>director</th>\n",
       "      <th>rating</th>\n",
       "    </tr>\n",
       "  </thead>\n",
       "  <tbody>\n",
       "    <tr>\n",
       "      <th>0</th>\n",
       "      <td>Damien Chazelle</td>\n",
       "      <td>8.2</td>\n",
       "    </tr>\n",
       "    <tr>\n",
       "      <th>1</th>\n",
       "      <td>Xavier Dolan</td>\n",
       "      <td>8</td>\n",
       "    </tr>\n",
       "    <tr>\n",
       "      <th>2</th>\n",
       "      <td>Tony Kaye</td>\n",
       "      <td>8</td>\n",
       "    </tr>\n",
       "    <tr>\n",
       "      <th>3</th>\n",
       "      <td>Morten Tyldum</td>\n",
       "      <td>8</td>\n",
       "    </tr>\n",
       "    <tr>\n",
       "      <th>4</th>\n",
       "      <td>Lenny Abrahamson</td>\n",
       "      <td>8</td>\n",
       "    </tr>\n",
       "    <tr>\n",
       "      <th>5</th>\n",
       "      <td>Rajkumar Hirani</td>\n",
       "      <td>7.8</td>\n",
       "    </tr>\n",
       "    <tr>\n",
       "      <th>6</th>\n",
       "      <td>Lucy Walker</td>\n",
       "      <td>7.8</td>\n",
       "    </tr>\n",
       "    <tr>\n",
       "      <th>7</th>\n",
       "      <td>Josh Boone</td>\n",
       "      <td>7.8</td>\n",
       "    </tr>\n",
       "    <tr>\n",
       "      <th>8</th>\n",
       "      <td>Ashutosh Gowariker</td>\n",
       "      <td>7.8</td>\n",
       "    </tr>\n",
       "    <tr>\n",
       "      <th>9</th>\n",
       "      <td>Richard Marquand</td>\n",
       "      <td>7.8</td>\n",
       "    </tr>\n",
       "    <tr>\n",
       "      <th>10</th>\n",
       "      <td>Jaco Van Dormael</td>\n",
       "      <td>7.8</td>\n",
       "    </tr>\n",
       "    <tr>\n",
       "      <th>11</th>\n",
       "      <td>Giuseppe Tornatore</td>\n",
       "      <td>7.7</td>\n",
       "    </tr>\n",
       "    <tr>\n",
       "      <th>12</th>\n",
       "      <td>Robert Mulligan</td>\n",
       "      <td>7.7</td>\n",
       "    </tr>\n",
       "    <tr>\n",
       "      <th>13</th>\n",
       "      <td>Irwin Allen</td>\n",
       "      <td>7.7</td>\n",
       "    </tr>\n",
       "    <tr>\n",
       "      <th>14</th>\n",
       "      <td>Ari Folman</td>\n",
       "      <td>7.7</td>\n",
       "    </tr>\n",
       "    <tr>\n",
       "      <th>15</th>\n",
       "      <td>Ronald Neame</td>\n",
       "      <td>7.7</td>\n",
       "    </tr>\n",
       "    <tr>\n",
       "      <th>16</th>\n",
       "      <td>Christopher Nolan</td>\n",
       "      <td>7.6375</td>\n",
       "    </tr>\n",
       "    <tr>\n",
       "      <th>17</th>\n",
       "      <td>Pete Docter</td>\n",
       "      <td>7.63333</td>\n",
       "    </tr>\n",
       "    <tr>\n",
       "      <th>18</th>\n",
       "      <td>Alex Garland</td>\n",
       "      <td>7.6</td>\n",
       "    </tr>\n",
       "    <tr>\n",
       "      <th>19</th>\n",
       "      <td>Tate Taylor</td>\n",
       "      <td>7.6</td>\n",
       "    </tr>\n",
       "    <tr>\n",
       "      <th>20</th>\n",
       "      <td>Mark Herman</td>\n",
       "      <td>7.6</td>\n",
       "    </tr>\n",
       "    <tr>\n",
       "      <th>21</th>\n",
       "      <td>Charles Ferguson</td>\n",
       "      <td>7.6</td>\n",
       "    </tr>\n",
       "    <tr>\n",
       "      <th>22</th>\n",
       "      <td>Bob Peterson</td>\n",
       "      <td>7.6</td>\n",
       "    </tr>\n",
       "    <tr>\n",
       "      <th>23</th>\n",
       "      <td>Dan Gilroy</td>\n",
       "      <td>7.6</td>\n",
       "    </tr>\n",
       "    <tr>\n",
       "      <th>24</th>\n",
       "      <td>Stephen Chbosky</td>\n",
       "      <td>7.6</td>\n",
       "    </tr>\n",
       "    <tr>\n",
       "      <th>25</th>\n",
       "      <td>Terry Jones</td>\n",
       "      <td>7.55</td>\n",
       "    </tr>\n",
       "    <tr>\n",
       "      <th>26</th>\n",
       "      <td>Wash Westmoreland</td>\n",
       "      <td>7.5</td>\n",
       "    </tr>\n",
       "    <tr>\n",
       "      <th>27</th>\n",
       "      <td>Alastair Fothergill</td>\n",
       "      <td>7.5</td>\n",
       "    </tr>\n",
       "    <tr>\n",
       "      <th>28</th>\n",
       "      <td>Stanley Donen</td>\n",
       "      <td>7.5</td>\n",
       "    </tr>\n",
       "    <tr>\n",
       "      <th>29</th>\n",
       "      <td>Jennifer Lee</td>\n",
       "      <td>7.5</td>\n",
       "    </tr>\n",
       "    <tr>\n",
       "      <th>...</th>\n",
       "      <td>...</td>\n",
       "      <td>...</td>\n",
       "    </tr>\n",
       "    <tr>\n",
       "      <th>1723</th>\n",
       "      <td>Pitof</td>\n",
       "      <td>4.3</td>\n",
       "    </tr>\n",
       "    <tr>\n",
       "      <th>1724</th>\n",
       "      <td>Sidney J. Furie</td>\n",
       "      <td>4.3</td>\n",
       "    </tr>\n",
       "    <tr>\n",
       "      <th>1725</th>\n",
       "      <td>James Isaac</td>\n",
       "      <td>4.3</td>\n",
       "    </tr>\n",
       "    <tr>\n",
       "      <th>1726</th>\n",
       "      <td>Kenneth Johnson</td>\n",
       "      <td>4.3</td>\n",
       "    </tr>\n",
       "    <tr>\n",
       "      <th>1727</th>\n",
       "      <td>Andrew Morahan</td>\n",
       "      <td>4.3</td>\n",
       "    </tr>\n",
       "    <tr>\n",
       "      <th>1728</th>\n",
       "      <td>Dario Argento</td>\n",
       "      <td>4.26667</td>\n",
       "    </tr>\n",
       "    <tr>\n",
       "      <th>1729</th>\n",
       "      <td>Andrew Mogel</td>\n",
       "      <td>4.2</td>\n",
       "    </tr>\n",
       "    <tr>\n",
       "      <th>1730</th>\n",
       "      <td>John Gulager</td>\n",
       "      <td>4.2</td>\n",
       "    </tr>\n",
       "    <tr>\n",
       "      <th>1731</th>\n",
       "      <td>James Yukich</td>\n",
       "      <td>4.2</td>\n",
       "    </tr>\n",
       "    <tr>\n",
       "      <th>1732</th>\n",
       "      <td>Troy Miller</td>\n",
       "      <td>4.2</td>\n",
       "    </tr>\n",
       "    <tr>\n",
       "      <th>1733</th>\n",
       "      <td>Joe Alves</td>\n",
       "      <td>4.2</td>\n",
       "    </tr>\n",
       "    <tr>\n",
       "      <th>1734</th>\n",
       "      <td>Jarrad Paul</td>\n",
       "      <td>4.2</td>\n",
       "    </tr>\n",
       "    <tr>\n",
       "      <th>1735</th>\n",
       "      <td>Steven E. de Souza</td>\n",
       "      <td>4.1</td>\n",
       "    </tr>\n",
       "    <tr>\n",
       "      <th>1736</th>\n",
       "      <td>Andrew Sipes</td>\n",
       "      <td>4.1</td>\n",
       "    </tr>\n",
       "    <tr>\n",
       "      <th>1737</th>\n",
       "      <td>Rocky Morton</td>\n",
       "      <td>4</td>\n",
       "    </tr>\n",
       "    <tr>\n",
       "      <th>1738</th>\n",
       "      <td>Des McAnuff</td>\n",
       "      <td>4</td>\n",
       "    </tr>\n",
       "    <tr>\n",
       "      <th>1739</th>\n",
       "      <td>Annabel Jankel</td>\n",
       "      <td>4</td>\n",
       "    </tr>\n",
       "    <tr>\n",
       "      <th>1740</th>\n",
       "      <td>Adam Marcus</td>\n",
       "      <td>3.9</td>\n",
       "    </tr>\n",
       "    <tr>\n",
       "      <th>1741</th>\n",
       "      <td>Kim Henkel</td>\n",
       "      <td>3.9</td>\n",
       "    </tr>\n",
       "    <tr>\n",
       "      <th>1742</th>\n",
       "      <td>David Kellogg</td>\n",
       "      <td>3.9</td>\n",
       "    </tr>\n",
       "    <tr>\n",
       "      <th>1743</th>\n",
       "      <td>Chris Sivertson</td>\n",
       "      <td>3.8</td>\n",
       "    </tr>\n",
       "    <tr>\n",
       "      <th>1744</th>\n",
       "      <td>Chris Fisher</td>\n",
       "      <td>3.8</td>\n",
       "    </tr>\n",
       "    <tr>\n",
       "      <th>1745</th>\n",
       "      <td>Vic Armstrong</td>\n",
       "      <td>3.8</td>\n",
       "    </tr>\n",
       "    <tr>\n",
       "      <th>1746</th>\n",
       "      <td>Aaron Seltzer</td>\n",
       "      <td>3.78</td>\n",
       "    </tr>\n",
       "    <tr>\n",
       "      <th>1747</th>\n",
       "      <td>Jason Friedberg</td>\n",
       "      <td>3.78</td>\n",
       "    </tr>\n",
       "    <tr>\n",
       "      <th>1748</th>\n",
       "      <td>Joseph Sargent</td>\n",
       "      <td>3.7</td>\n",
       "    </tr>\n",
       "    <tr>\n",
       "      <th>1749</th>\n",
       "      <td>Dick Maas</td>\n",
       "      <td>3.7</td>\n",
       "    </tr>\n",
       "    <tr>\n",
       "      <th>1750</th>\n",
       "      <td>Luca Bercovici</td>\n",
       "      <td>3.6</td>\n",
       "    </tr>\n",
       "    <tr>\n",
       "      <th>1751</th>\n",
       "      <td>Uwe Boll</td>\n",
       "      <td>3.56667</td>\n",
       "    </tr>\n",
       "    <tr>\n",
       "      <th>1752</th>\n",
       "      <td>Lawrence Kasanoff</td>\n",
       "      <td>2.2</td>\n",
       "    </tr>\n",
       "  </tbody>\n",
       "</table>\n",
       "<p>1753 rows × 2 columns</p>\n",
       "</div>"
      ],
      "text/plain": [
       "                 director   rating\n",
       "0         Damien Chazelle      8.2\n",
       "1            Xavier Dolan        8\n",
       "2               Tony Kaye        8\n",
       "3           Morten Tyldum        8\n",
       "4        Lenny Abrahamson        8\n",
       "5         Rajkumar Hirani      7.8\n",
       "6             Lucy Walker      7.8\n",
       "7              Josh Boone      7.8\n",
       "8      Ashutosh Gowariker      7.8\n",
       "9        Richard Marquand      7.8\n",
       "10       Jaco Van Dormael      7.8\n",
       "11     Giuseppe Tornatore      7.7\n",
       "12        Robert Mulligan      7.7\n",
       "13            Irwin Allen      7.7\n",
       "14             Ari Folman      7.7\n",
       "15           Ronald Neame      7.7\n",
       "16      Christopher Nolan   7.6375\n",
       "17            Pete Docter  7.63333\n",
       "18           Alex Garland      7.6\n",
       "19            Tate Taylor      7.6\n",
       "20            Mark Herman      7.6\n",
       "21       Charles Ferguson      7.6\n",
       "22           Bob Peterson      7.6\n",
       "23             Dan Gilroy      7.6\n",
       "24        Stephen Chbosky      7.6\n",
       "25            Terry Jones     7.55\n",
       "26      Wash Westmoreland      7.5\n",
       "27    Alastair Fothergill      7.5\n",
       "28          Stanley Donen      7.5\n",
       "29           Jennifer Lee      7.5\n",
       "...                   ...      ...\n",
       "1723                Pitof      4.3\n",
       "1724      Sidney J. Furie      4.3\n",
       "1725          James Isaac      4.3\n",
       "1726      Kenneth Johnson      4.3\n",
       "1727       Andrew Morahan      4.3\n",
       "1728        Dario Argento  4.26667\n",
       "1729         Andrew Mogel      4.2\n",
       "1730         John Gulager      4.2\n",
       "1731         James Yukich      4.2\n",
       "1732          Troy Miller      4.2\n",
       "1733            Joe Alves      4.2\n",
       "1734          Jarrad Paul      4.2\n",
       "1735   Steven E. de Souza      4.1\n",
       "1736         Andrew Sipes      4.1\n",
       "1737         Rocky Morton        4\n",
       "1738          Des McAnuff        4\n",
       "1739       Annabel Jankel        4\n",
       "1740          Adam Marcus      3.9\n",
       "1741           Kim Henkel      3.9\n",
       "1742        David Kellogg      3.9\n",
       "1743      Chris Sivertson      3.8\n",
       "1744         Chris Fisher      3.8\n",
       "1745        Vic Armstrong      3.8\n",
       "1746        Aaron Seltzer     3.78\n",
       "1747      Jason Friedberg     3.78\n",
       "1748       Joseph Sargent      3.7\n",
       "1749            Dick Maas      3.7\n",
       "1750       Luca Bercovici      3.6\n",
       "1751             Uwe Boll  3.56667\n",
       "1752    Lawrence Kasanoff      2.2\n",
       "\n",
       "[1753 rows x 2 columns]"
      ]
     },
     "execution_count": 69,
     "metadata": {},
     "output_type": "execute_result"
    }
   ],
   "source": [
    "# Reset the index and check the dataframe\n",
    "plot4.reset_index(drop = True)"
   ]
  },
  {
   "cell_type": "markdown",
   "metadata": {},
   "source": [
    "> Findings: Now I have the average vote ratings for movies directed by 1752 directors, in order of average scores. "
   ]
  },
  {
   "cell_type": "markdown",
   "metadata": {},
   "source": [
    "> **Define high ratings.**"
   ]
  },
  {
   "cell_type": "code",
   "execution_count": 70,
   "metadata": {
    "scrolled": true
   },
   "outputs": [
    {
     "data": {
      "text/plain": [
       "count    3805.000000\n",
       "mean        6.170565\n",
       "std         0.792437\n",
       "min         2.200000\n",
       "25%         5.700000\n",
       "50%         6.200000\n",
       "75%         6.700000\n",
       "max         8.400000\n",
       "Name: vote_average, dtype: float64"
      ]
     },
     "execution_count": 70,
     "metadata": {},
     "output_type": "execute_result"
    }
   ],
   "source": [
    "# Get the statistics of vote_average.\n",
    "df.vote_average.describe()"
   ]
  },
  {
   "cell_type": "code",
   "execution_count": 71,
   "metadata": {},
   "outputs": [],
   "source": [
    "# Define high ratings with rating scores higher that 75the percentile. \n",
    "plot5 = plot4[plot4['rating'] >= 6.70]"
   ]
  },
  {
   "cell_type": "code",
   "execution_count": 72,
   "metadata": {},
   "outputs": [
    {
     "data": {
      "text/html": [
       "<div>\n",
       "<style scoped>\n",
       "    .dataframe tbody tr th:only-of-type {\n",
       "        vertical-align: middle;\n",
       "    }\n",
       "\n",
       "    .dataframe tbody tr th {\n",
       "        vertical-align: top;\n",
       "    }\n",
       "\n",
       "    .dataframe thead th {\n",
       "        text-align: right;\n",
       "    }\n",
       "</style>\n",
       "<table border=\"1\" class=\"dataframe\">\n",
       "  <thead>\n",
       "    <tr style=\"text-align: right;\">\n",
       "      <th></th>\n",
       "      <th>director</th>\n",
       "      <th>rating</th>\n",
       "    </tr>\n",
       "  </thead>\n",
       "  <tbody>\n",
       "    <tr>\n",
       "      <th>0</th>\n",
       "      <td>Damien Chazelle</td>\n",
       "      <td>8.2</td>\n",
       "    </tr>\n",
       "    <tr>\n",
       "      <th>1</th>\n",
       "      <td>Xavier Dolan</td>\n",
       "      <td>8</td>\n",
       "    </tr>\n",
       "    <tr>\n",
       "      <th>2</th>\n",
       "      <td>Tony Kaye</td>\n",
       "      <td>8</td>\n",
       "    </tr>\n",
       "    <tr>\n",
       "      <th>3</th>\n",
       "      <td>Morten Tyldum</td>\n",
       "      <td>8</td>\n",
       "    </tr>\n",
       "    <tr>\n",
       "      <th>4</th>\n",
       "      <td>Lenny Abrahamson</td>\n",
       "      <td>8</td>\n",
       "    </tr>\n",
       "    <tr>\n",
       "      <th>5</th>\n",
       "      <td>Rajkumar Hirani</td>\n",
       "      <td>7.8</td>\n",
       "    </tr>\n",
       "    <tr>\n",
       "      <th>6</th>\n",
       "      <td>Lucy Walker</td>\n",
       "      <td>7.8</td>\n",
       "    </tr>\n",
       "    <tr>\n",
       "      <th>7</th>\n",
       "      <td>Josh Boone</td>\n",
       "      <td>7.8</td>\n",
       "    </tr>\n",
       "    <tr>\n",
       "      <th>8</th>\n",
       "      <td>Ashutosh Gowariker</td>\n",
       "      <td>7.8</td>\n",
       "    </tr>\n",
       "    <tr>\n",
       "      <th>9</th>\n",
       "      <td>Richard Marquand</td>\n",
       "      <td>7.8</td>\n",
       "    </tr>\n",
       "    <tr>\n",
       "      <th>10</th>\n",
       "      <td>Jaco Van Dormael</td>\n",
       "      <td>7.8</td>\n",
       "    </tr>\n",
       "    <tr>\n",
       "      <th>11</th>\n",
       "      <td>Giuseppe Tornatore</td>\n",
       "      <td>7.7</td>\n",
       "    </tr>\n",
       "    <tr>\n",
       "      <th>12</th>\n",
       "      <td>Robert Mulligan</td>\n",
       "      <td>7.7</td>\n",
       "    </tr>\n",
       "    <tr>\n",
       "      <th>13</th>\n",
       "      <td>Irwin Allen</td>\n",
       "      <td>7.7</td>\n",
       "    </tr>\n",
       "    <tr>\n",
       "      <th>14</th>\n",
       "      <td>Ari Folman</td>\n",
       "      <td>7.7</td>\n",
       "    </tr>\n",
       "    <tr>\n",
       "      <th>15</th>\n",
       "      <td>Ronald Neame</td>\n",
       "      <td>7.7</td>\n",
       "    </tr>\n",
       "    <tr>\n",
       "      <th>16</th>\n",
       "      <td>Christopher Nolan</td>\n",
       "      <td>7.6375</td>\n",
       "    </tr>\n",
       "    <tr>\n",
       "      <th>17</th>\n",
       "      <td>Pete Docter</td>\n",
       "      <td>7.63333</td>\n",
       "    </tr>\n",
       "    <tr>\n",
       "      <th>18</th>\n",
       "      <td>Alex Garland</td>\n",
       "      <td>7.6</td>\n",
       "    </tr>\n",
       "    <tr>\n",
       "      <th>19</th>\n",
       "      <td>Tate Taylor</td>\n",
       "      <td>7.6</td>\n",
       "    </tr>\n",
       "    <tr>\n",
       "      <th>20</th>\n",
       "      <td>Mark Herman</td>\n",
       "      <td>7.6</td>\n",
       "    </tr>\n",
       "    <tr>\n",
       "      <th>21</th>\n",
       "      <td>Charles Ferguson</td>\n",
       "      <td>7.6</td>\n",
       "    </tr>\n",
       "    <tr>\n",
       "      <th>22</th>\n",
       "      <td>Bob Peterson</td>\n",
       "      <td>7.6</td>\n",
       "    </tr>\n",
       "    <tr>\n",
       "      <th>23</th>\n",
       "      <td>Dan Gilroy</td>\n",
       "      <td>7.6</td>\n",
       "    </tr>\n",
       "    <tr>\n",
       "      <th>24</th>\n",
       "      <td>Stephen Chbosky</td>\n",
       "      <td>7.6</td>\n",
       "    </tr>\n",
       "    <tr>\n",
       "      <th>25</th>\n",
       "      <td>Terry Jones</td>\n",
       "      <td>7.55</td>\n",
       "    </tr>\n",
       "    <tr>\n",
       "      <th>26</th>\n",
       "      <td>Wash Westmoreland</td>\n",
       "      <td>7.5</td>\n",
       "    </tr>\n",
       "    <tr>\n",
       "      <th>27</th>\n",
       "      <td>Alastair Fothergill</td>\n",
       "      <td>7.5</td>\n",
       "    </tr>\n",
       "    <tr>\n",
       "      <th>28</th>\n",
       "      <td>Stanley Donen</td>\n",
       "      <td>7.5</td>\n",
       "    </tr>\n",
       "    <tr>\n",
       "      <th>29</th>\n",
       "      <td>Jennifer Lee</td>\n",
       "      <td>7.5</td>\n",
       "    </tr>\n",
       "    <tr>\n",
       "      <th>...</th>\n",
       "      <td>...</td>\n",
       "      <td>...</td>\n",
       "    </tr>\n",
       "    <tr>\n",
       "      <th>295</th>\n",
       "      <td>Chris Buck</td>\n",
       "      <td>6.7</td>\n",
       "    </tr>\n",
       "    <tr>\n",
       "      <th>296</th>\n",
       "      <td>Rian Johnson</td>\n",
       "      <td>6.7</td>\n",
       "    </tr>\n",
       "    <tr>\n",
       "      <th>297</th>\n",
       "      <td>Shane Carruth</td>\n",
       "      <td>6.7</td>\n",
       "    </tr>\n",
       "    <tr>\n",
       "      <th>298</th>\n",
       "      <td>Bille August</td>\n",
       "      <td>6.7</td>\n",
       "    </tr>\n",
       "    <tr>\n",
       "      <th>299</th>\n",
       "      <td>Andrey Kravchuk</td>\n",
       "      <td>6.7</td>\n",
       "    </tr>\n",
       "    <tr>\n",
       "      <th>300</th>\n",
       "      <td>Andrew Currie</td>\n",
       "      <td>6.7</td>\n",
       "    </tr>\n",
       "    <tr>\n",
       "      <th>301</th>\n",
       "      <td>Michael Cimino</td>\n",
       "      <td>6.7</td>\n",
       "    </tr>\n",
       "    <tr>\n",
       "      <th>302</th>\n",
       "      <td>Don McKellar</td>\n",
       "      <td>6.7</td>\n",
       "    </tr>\n",
       "    <tr>\n",
       "      <th>303</th>\n",
       "      <td>David Michener</td>\n",
       "      <td>6.7</td>\n",
       "    </tr>\n",
       "    <tr>\n",
       "      <th>304</th>\n",
       "      <td>Jim Jarmusch</td>\n",
       "      <td>6.7</td>\n",
       "    </tr>\n",
       "    <tr>\n",
       "      <th>305</th>\n",
       "      <td>Mike Leigh</td>\n",
       "      <td>6.7</td>\n",
       "    </tr>\n",
       "    <tr>\n",
       "      <th>306</th>\n",
       "      <td>Evan Glodell</td>\n",
       "      <td>6.7</td>\n",
       "    </tr>\n",
       "    <tr>\n",
       "      <th>307</th>\n",
       "      <td>Stephen J. Anderson</td>\n",
       "      <td>6.7</td>\n",
       "    </tr>\n",
       "    <tr>\n",
       "      <th>308</th>\n",
       "      <td>Duke Johnson</td>\n",
       "      <td>6.7</td>\n",
       "    </tr>\n",
       "    <tr>\n",
       "      <th>309</th>\n",
       "      <td>Pixote Hunt</td>\n",
       "      <td>6.7</td>\n",
       "    </tr>\n",
       "    <tr>\n",
       "      <th>310</th>\n",
       "      <td>Rachid Bouchareb</td>\n",
       "      <td>6.7</td>\n",
       "    </tr>\n",
       "    <tr>\n",
       "      <th>311</th>\n",
       "      <td>Robert Wise</td>\n",
       "      <td>6.7</td>\n",
       "    </tr>\n",
       "    <tr>\n",
       "      <th>312</th>\n",
       "      <td>John Lasseter</td>\n",
       "      <td>6.7</td>\n",
       "    </tr>\n",
       "    <tr>\n",
       "      <th>313</th>\n",
       "      <td>Eugene Jarecki</td>\n",
       "      <td>6.7</td>\n",
       "    </tr>\n",
       "    <tr>\n",
       "      <th>314</th>\n",
       "      <td>Charlie Kaufman</td>\n",
       "      <td>6.7</td>\n",
       "    </tr>\n",
       "    <tr>\n",
       "      <th>315</th>\n",
       "      <td>Tom Savini</td>\n",
       "      <td>6.7</td>\n",
       "    </tr>\n",
       "    <tr>\n",
       "      <th>316</th>\n",
       "      <td>Debra Granik</td>\n",
       "      <td>6.7</td>\n",
       "    </tr>\n",
       "    <tr>\n",
       "      <th>317</th>\n",
       "      <td>Desmond Davis</td>\n",
       "      <td>6.7</td>\n",
       "    </tr>\n",
       "    <tr>\n",
       "      <th>318</th>\n",
       "      <td>Nanette Burstein</td>\n",
       "      <td>6.7</td>\n",
       "    </tr>\n",
       "    <tr>\n",
       "      <th>319</th>\n",
       "      <td>Bruce A. Evans</td>\n",
       "      <td>6.7</td>\n",
       "    </tr>\n",
       "    <tr>\n",
       "      <th>320</th>\n",
       "      <td>Adrienne Shelly</td>\n",
       "      <td>6.7</td>\n",
       "    </tr>\n",
       "    <tr>\n",
       "      <th>321</th>\n",
       "      <td>Vincenzo Natali</td>\n",
       "      <td>6.7</td>\n",
       "    </tr>\n",
       "    <tr>\n",
       "      <th>322</th>\n",
       "      <td>Heidi Ewing</td>\n",
       "      <td>6.7</td>\n",
       "    </tr>\n",
       "    <tr>\n",
       "      <th>323</th>\n",
       "      <td>George Lucas</td>\n",
       "      <td>6.7</td>\n",
       "    </tr>\n",
       "    <tr>\n",
       "      <th>324</th>\n",
       "      <td>Willard Carroll</td>\n",
       "      <td>6.7</td>\n",
       "    </tr>\n",
       "  </tbody>\n",
       "</table>\n",
       "<p>325 rows × 2 columns</p>\n",
       "</div>"
      ],
      "text/plain": [
       "                director   rating\n",
       "0        Damien Chazelle      8.2\n",
       "1           Xavier Dolan        8\n",
       "2              Tony Kaye        8\n",
       "3          Morten Tyldum        8\n",
       "4       Lenny Abrahamson        8\n",
       "5        Rajkumar Hirani      7.8\n",
       "6            Lucy Walker      7.8\n",
       "7             Josh Boone      7.8\n",
       "8     Ashutosh Gowariker      7.8\n",
       "9       Richard Marquand      7.8\n",
       "10      Jaco Van Dormael      7.8\n",
       "11    Giuseppe Tornatore      7.7\n",
       "12       Robert Mulligan      7.7\n",
       "13           Irwin Allen      7.7\n",
       "14            Ari Folman      7.7\n",
       "15          Ronald Neame      7.7\n",
       "16     Christopher Nolan   7.6375\n",
       "17           Pete Docter  7.63333\n",
       "18          Alex Garland      7.6\n",
       "19           Tate Taylor      7.6\n",
       "20           Mark Herman      7.6\n",
       "21      Charles Ferguson      7.6\n",
       "22          Bob Peterson      7.6\n",
       "23            Dan Gilroy      7.6\n",
       "24       Stephen Chbosky      7.6\n",
       "25           Terry Jones     7.55\n",
       "26     Wash Westmoreland      7.5\n",
       "27   Alastair Fothergill      7.5\n",
       "28         Stanley Donen      7.5\n",
       "29          Jennifer Lee      7.5\n",
       "..                   ...      ...\n",
       "295           Chris Buck      6.7\n",
       "296         Rian Johnson      6.7\n",
       "297        Shane Carruth      6.7\n",
       "298         Bille August      6.7\n",
       "299      Andrey Kravchuk      6.7\n",
       "300        Andrew Currie      6.7\n",
       "301       Michael Cimino      6.7\n",
       "302         Don McKellar      6.7\n",
       "303       David Michener      6.7\n",
       "304         Jim Jarmusch      6.7\n",
       "305           Mike Leigh      6.7\n",
       "306         Evan Glodell      6.7\n",
       "307  Stephen J. Anderson      6.7\n",
       "308         Duke Johnson      6.7\n",
       "309          Pixote Hunt      6.7\n",
       "310     Rachid Bouchareb      6.7\n",
       "311          Robert Wise      6.7\n",
       "312        John Lasseter      6.7\n",
       "313       Eugene Jarecki      6.7\n",
       "314      Charlie Kaufman      6.7\n",
       "315           Tom Savini      6.7\n",
       "316         Debra Granik      6.7\n",
       "317        Desmond Davis      6.7\n",
       "318     Nanette Burstein      6.7\n",
       "319       Bruce A. Evans      6.7\n",
       "320      Adrienne Shelly      6.7\n",
       "321      Vincenzo Natali      6.7\n",
       "322          Heidi Ewing      6.7\n",
       "323         George Lucas      6.7\n",
       "324      Willard Carroll      6.7\n",
       "\n",
       "[325 rows x 2 columns]"
      ]
     },
     "execution_count": 72,
     "metadata": {},
     "output_type": "execute_result"
    }
   ],
   "source": [
    "# Check the data.\n",
    "plot5.reset_index(drop = True)"
   ]
  },
  {
   "cell_type": "markdown",
   "metadata": {},
   "source": [
    "> Findings: 324 directors direct movies that have average high rating scores. "
   ]
  },
  {
   "cell_type": "markdown",
   "metadata": {},
   "source": [
    "<a id='conclusions'></a>\n",
    "## Conclusions\n",
    "\n"
   ]
  },
  {
   "cell_type": "markdown",
   "metadata": {},
   "source": [
    "### Limitations\n",
    "1. One limitation of my explorations is I drop a lot of zero values in budge, revenue, runtime and vote columns all together. It shrinks the data frame from 9876 to 3805 rows, which means a lot data. If I have more time I would carefully drop the zero values columns by columns when I dig into particular variables and other variables are possible to have zero values. Otherwise, the sample size shrinks too much and the result would be influenced. \n",
    "2. With the main variable ‘popularity’, I could not understand it well so after exploration I just leave all the raw data of popularity as they are. There are possibilities that some of the popularity data might be incorrect and need to be dropped.\n",
    "3. The objective of my exploration is to focus on one variable, dig into it, and find how other variables relate to it. If I have more time, I would like to explore the correlations between multiple variables. For example, asking question like, are movies with high popularities related with high revenue? Or question like, is there a correlation between popularity and vote rating?\n",
    "\n",
    "### On Top10 Explorations:\n",
    "<li>The top 10 popular movies are not on the list of top 10 revenue movies. It is an interesting finding. Because the intuitive assumption on popular movies are movies that consumers would like to pay to watch. It seems like that the measurement of popularity is not how much consumers like to pay for the movie.</li>\n",
    "<li>The movie 'Iron Man 3' and 'Titanic' have longer runtime compare to other high revenue movies. The popularities of both movies are around 4.5, which are defined as 'high popularity'. It seems like those two movies were popular at that time so they were running a longer time period.</li>\n",
    "<li>In comparison of Top10 revenue movie and Top10 profit movie, 'Toy Story 3' and 'Frozen' are movies have high revenue but relatively low profit. It seems like the genre 'Animation' has a high cost on production compare to other genres.</li>\n",
    "\n",
    "### On Genre Explorations:\n",
    "<li>Overall, 'Adventure' has the highest average popularity which is 1.8808. Followed by ‘Science Fiction’, ‘Fantasy’,  ‘Animation’,  ‘Action’ and ‘Family’. Those genres have average popularity above 1.40.</li>\n",
    "<li>Orderly, 'Thriller',  'War',  'Mystery',  'Western',  'Crime',  'Comedy' and 'Drama' have average popularity above 1.0.</li>\n",
    "<li>Genres of 'History',  'Romance',  'Music',  'Horror' have a low popularity below 1.0</li>\n",
    "<li>The lowest popularity are genres 'Documentary',  'TV movie' and 'Foreign' movies.</li>\n",
    "\n",
    "### On Genre by Year Explorations:\n",
    "<li>'Science Fiction' ranks the most popular genre for year 2013-2015. The popularity of ‘Science Fiction’ increased from 2.88 to 5.45 from 2013 to 2014. And it increased to 7.59 in 2015. There is a trend for this genre of movie getting more and more popular for consumers in recent years. </li>\n",
    "<li>The most popular genre 'Adventure' only hits the highest popularity ranking on 2010. It seems like on 2010, there were a lot of Adventure movies released that are very popular overall.</li>\n",
    "<li> Surprisingly, 'Western' is the most popular genre in year 2012 which it has an overall medium average popularity of 1.13.</li>\n",
    "\n",
    "### On High Revenue Explorations:\n",
    "<li> The top 5 genres associated with high revenue are ‘Fantasy’, ‘Adventure’, ‘Animation’, ‘Science Fiction’ and ‘Family’.</li>\n",
    "<li>Year 2011 have most movies with high revenue, followed by year 2014, 2012, 2010, 2013 and 2015.</li>\n",
    "<li>Production company Universal Pictures and Warner Brothers have most movies with high revenue. Followed by Paramount Pictures, Twentieth Century Fox, Columbia and Walt Disney.</li>\n",
    "<li>Cast Robert De Niro play in most movies with high revenue. Followed by Bruce Willis, Samuel Jackson, Nicolas Cage, Matt Damon and Johnny Depp.</li>\n",
    "<li> Director Steven Spielberg directs over 25 movies with high revenues, which is much more than the followed directors Robert Zemeckis.</li>\n",
    "<li> The average popularity of high revenue movies is 2.33. Most of movies have popularity between 0.13 to 2.70. The highest popularity for high revenue movies are 32.986.</li>\n",
    "\n",
    "### On Directors with High Ratings Explorations:\n",
    "<li>Director Damien Chazelle directs movies of highest average ratings 8.0 . Followed by Tony Kaye, Morten Tyldum, Xavier Dolan and Lenny Abrahamson. </li>\n",
    "<li>Average rating with 6.7 is considered as high rating. There are 324 directors have movies with high ratings </li>\n"
   ]
  }
 ],
 "metadata": {
  "kernelspec": {
   "display_name": "Python 3",
   "language": "python",
   "name": "python3"
  },
  "language_info": {
   "codemirror_mode": {
    "name": "ipython",
    "version": 3
   },
   "file_extension": ".py",
   "mimetype": "text/x-python",
   "name": "python",
   "nbconvert_exporter": "python",
   "pygments_lexer": "ipython3",
   "version": "3.6.8"
  }
 },
 "nbformat": 4,
 "nbformat_minor": 2
}
